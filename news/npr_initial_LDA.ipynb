{
 "cells": [
  {
   "cell_type": "code",
   "execution_count": 40,
   "id": "headed-chain",
   "metadata": {},
   "outputs": [],
   "source": [
    "import pandas as pd\n",
    "from sklearn.feature_extraction.text import CountVectorizer"
   ]
  },
  {
   "cell_type": "code",
   "execution_count": 8,
   "id": "serial-border",
   "metadata": {},
   "outputs": [],
   "source": [
    "nlp = spacy.load('en_core_web_sm')"
   ]
  },
  {
   "cell_type": "code",
   "execution_count": 41,
   "id": "norwegian-lemon",
   "metadata": {},
   "outputs": [],
   "source": [
    "df = pd.read_csv('files/article_items.csv',parse_dates=['date'])"
   ]
  },
  {
   "cell_type": "code",
   "execution_count": 42,
   "id": "furnished-brisbane",
   "metadata": {},
   "outputs": [
    {
     "name": "stdout",
     "output_type": "stream",
     "text": [
      "<class 'pandas.core.frame.DataFrame'>\n",
      "RangeIndex: 1344 entries, 0 to 1343\n",
      "Data columns (total 7 columns):\n",
      " #   Column        Non-Null Count  Dtype \n",
      "---  ------        --------------  ----- \n",
      " 0   Unnamed: 0    1344 non-null   int64 \n",
      " 1   idx           1344 non-null   int64 \n",
      " 2   date          1344 non-null   object\n",
      " 3   category      1338 non-null   object\n",
      " 4   authors       1344 non-null   object\n",
      " 5   title         1344 non-null   object\n",
      " 6   article_text  1344 non-null   object\n",
      "dtypes: int64(2), object(5)\n",
      "memory usage: 73.6+ KB\n"
     ]
    }
   ],
   "source": [
    "df.info()"
   ]
  },
  {
   "cell_type": "code",
   "execution_count": 43,
   "id": "straight-niger",
   "metadata": {},
   "outputs": [
    {
     "data": {
      "text/plain": [
       "132"
      ]
     },
     "execution_count": 43,
     "metadata": {},
     "output_type": "execute_result"
    }
   ],
   "source": [
    "df['category'].nunique()"
   ]
  },
  {
   "cell_type": "code",
   "execution_count": 44,
   "id": "disciplinary-burns",
   "metadata": {
    "collapsed": true,
    "jupyter": {
     "outputs_hidden": true
    },
    "tags": []
   },
   "outputs": [
    {
     "data": {
      "text/plain": [
       "array(['National', 'Environment', 'Politics', 'Environment ',\n",
       "       'Music News', 'Middle East', 'World ', 'Education', 'Technology',\n",
       "       'The Coronavirus Crisis', 'Goats and Soda ', 'Energy ', 'World',\n",
       "       'Animals', 'Shots - Health News ', 'Infectious Disease',\n",
       "       'Business', 'Criminal Justice Collaborative ', 'Your Health',\n",
       "       'The Coronavirus Crisis ', 'Investigations',\n",
       "       'America Reckons With Racial Injustice ',\n",
       "       'Untangling Disinformation ', 'Law', 'Student Podcast Challenge ',\n",
       "       'Public Health', 'National ', 'Race', 'Coronavirus Live Updates ',\n",
       "       'Analysis', 'Technology ', 'Photography', 'Health',\n",
       "       'Planet Money ', 'National Security', 'Treatments', 'Science ',\n",
       "       'Law ', 'Elections', 'Coronavirus Updates',\n",
       "       'America Reckons With Racial Injustice', 'Obituaries', 'Family',\n",
       "       'Coronavirus Updates ', 'Politics ', 'Author Interviews', 'Sports',\n",
       "       'Space', 'History', 'Science', 'Architecture', '50 Years Of NPR ',\n",
       "       'Europe', 'Economy ', 'Energy', 'Business ', 'Bill Of The Month',\n",
       "       'Slingshot ', 'Books', 'Health Inc.',\n",
       "       \"Live Updates: Trial Over George Floyd's Killing  \", nan,\n",
       "       'Health ', 'Latin America', 'National Security ', 'Policy-ish',\n",
       "       'Asia', 'Africa ', 'Fall 2020 College Road Trip  ', 'Television',\n",
       "       'Africa', 'On Disabilities', 'Economy', 'Code Switch ',\n",
       "       'Arts & Life', 'Weather', 'Food', 'Music', 'Music ',\n",
       "       'Discipline And Women In Prison ', \"Editors' Picks\",\n",
       "       'Kitchen Table Conversations ', 'Embedded ', 'Religion', 'Games',\n",
       "       'Pop Culture', 'Life Kit', 'Your Money', 'Investigations ',\n",
       "       'NPR Ed ', 'Sports ', 'Movie Interviews',\n",
       "       'Biden Transition Updates ', 'Race ', 'Media',\n",
       "       'Consider This from NPR ', 'Live Updates: Winter Storms 2021 ',\n",
       "       'Women & Girls', 'Coronavirus By The Numbers',\n",
       "       'Enough Already: How The Pandemic Is Breaking Women ',\n",
       "       'Live Updates: Winter Storms 2021', 'Economics',\n",
       "       'Live Updates: Protests For Racial Justice ',\n",
       "       'Trump Impeachment Trial: Live Updates ', 'Elections ',\n",
       "       'Education ', 'Culture', 'Coronavirus, Illustrated', 'Life Kit ',\n",
       "       'How I Built This with Guy Raz ', 'President Biden Takes Office ',\n",
       "       'Inauguration Day: Live Updates ', 'Take A Number ',\n",
       "       \"Editors' Picks \", 'The Picture Show ', 'Health Care',\n",
       "       'StoryCorps ', 'House Impeachment Vote: Live Updates ',\n",
       "       'Congress Weighs Action Against Trump: Live Updates ',\n",
       "       'Capitol Insurrection Updates', 'Analysis ', 'Development',\n",
       "       'Insurrection At The Capitol: Live Updates ',\n",
       "       \"Congress' Electoral College Tally: Live Updates \", 'Health Care ',\n",
       "       'Environment And Energy Collaborative ', 'Coronavirus Guide',\n",
       "       'Youth', 'Global Health ', 'Book Reviews ', 'Movies',\n",
       "       'Strange News', 'Mental Health'], dtype=object)"
      ]
     },
     "execution_count": 44,
     "metadata": {},
     "output_type": "execute_result"
    }
   ],
   "source": [
    "df['category'].unique()"
   ]
  },
  {
   "cell_type": "code",
   "execution_count": 46,
   "id": "polyphonic-despite",
   "metadata": {
    "collapsed": true,
    "jupyter": {
     "outputs_hidden": true
    },
    "tags": []
   },
   "outputs": [
    {
     "data": {
      "text/plain": [
       "'Enlarge this image An Army photo shows a soldier wearing a new approved ponytail hairstyle. U.S. Army hide caption toggle caption U.S. Army An Army photo shows a soldier wearing a new approved ponytail hairstyle. U.S. Army The Army is now allowing female soldiers to wear their hair in ponytails in all uniforms, in a change announced earlier this month. It expands on hair guidelines announced in January. For years, many women in the Army were required to keep their hair in a tight bun. The newest changes mean women can keep their hair either a bun, single ponytail, two braids or a single braid; locks, braids, twists or cornrows can come together in one or two braids or a ponytail; and braids or a ponytail can go as far down as the bottom of the shoulder blades. There are exceptions on the length of the ponytail or braid for women doing tactical or physical training, the Army says. In other changes this year, hair highlights are now allowed in natural colors, lipstick and nail polish allowed in \"non-extreme\" colors for women, earrings allowed for women in combat uniforms, and clear nail polish allowed for men. Enlarge this image Another newly approved ponytail, as shown in an Army photo. U.S. Army hide caption toggle caption U.S. Army Another newly approved ponytail, as shown in an Army photo. U.S. Army The Army acknowledged in announcing the latest update that repeatedly pulling hair into a tight bun could lead to hair loss. Sgt. Nicole Pierce, a behavioral health noncommissioned officer stationed at Fort Sill in Oklahoma, tells NPR\\'s Weekend Edition that \"tightening of the bun has really over the years pulled my hair out.\" It added to postpartum hair loss she was experiencing. She also got headaches. Now says she she\\'s feeling the \"happiness of just having the option of how we want to do our hair: bun, ponytail, braids. I\\'m just excited that we have options.\" Staff Sgt. April Schacher, a flight operations specialist assigned to Fort Belvoir in Virginia, says the buns would make it difficult to wear a helmet during training. It \"would affect how low the helmet lies on our eyes, so, especially with shooting our weapons, that did affect being able to see the target properly,\" she says. The Picture Show Black Enterprise, Tradition And Culture At The Bronner Bros. Hair Show The new guidelines expand the options for Black women\\'s hair. In 2014, members of the Congressional Black Caucus wrote a letter to the secretary of defense over rules at the time about Black women\\'s twists and braids. \"African American women have often been required to meet unreasonable norms as it relates to acceptable standards of grooming in the workplace,\" the lawmakers wrote. The Army first allowed some women to have some types of locks in 2017. Maj. Faren Aimee Campbell, who works in Army logistics in Silver Spring, Md., experienced hair loss and damage from keeping her hair in a bun. So she chose to shave her head. Completely shaved heads used to be against the rules that required hair to be at least 1/4 inch long. Not anymore. \"It\\'s been a very freeing change within the regulation,\" Campbell says. The latest update also \"removes potentially offensive language used to describe several hairstyles,\" the Army said. Code Switch The Army Reconsiders Its Opposition To Cornrows And Dreadlocks The Army notes that \"professionalism\" is important in how soldiers appear. Maj. Terri Taylor, who is stationed at Fort Stewart in Georgia, says being professional isn\\'t limited to one hairstyle. She used to use chemical relaxer in her hair, but now wears her hair in barrel rolls. \"Who\\'s to say that a ponytail is not professional in appearance? Who\\'s to say that locks are not professional in appearance? As long as you can properly wear your headgear and look professional in your uniform, I think that\\'s what matters at the end of the day.\" Gabriel Dunatov and Melissa Gray produced and edited the audio story.'"
      ]
     },
     "execution_count": 46,
     "metadata": {},
     "output_type": "execute_result"
    }
   ],
   "source": [
    "df['article_text'][0]"
   ]
  },
  {
   "cell_type": "markdown",
   "id": "civic-density",
   "metadata": {},
   "source": [
    "# LDA WORKFLOW"
   ]
  },
  {
   "cell_type": "code",
   "execution_count": 49,
   "id": "suitable-software",
   "metadata": {},
   "outputs": [],
   "source": [
    "from sklearn.feature_extraction.text import CountVectorizer"
   ]
  },
  {
   "cell_type": "code",
   "execution_count": 128,
   "id": "bronze-fiction",
   "metadata": {},
   "outputs": [],
   "source": [
    "cv = CountVectorizer(max_df = .8, min_df = 2, stop_words = 'english')"
   ]
  },
  {
   "cell_type": "code",
   "execution_count": 129,
   "id": "welcome-suicide",
   "metadata": {},
   "outputs": [],
   "source": [
    "dtm = cv.fit_transform(df['article_text'])"
   ]
  },
  {
   "cell_type": "markdown",
   "id": "disturbed-indianapolis",
   "metadata": {},
   "source": [
    "### LDA to learn topic representation:"
   ]
  },
  {
   "cell_type": "code",
   "execution_count": 52,
   "id": "statutory-badge",
   "metadata": {},
   "outputs": [],
   "source": [
    "from sklearn.decomposition import LatentDirichletAllocation"
   ]
  },
  {
   "cell_type": "code",
   "execution_count": 139,
   "id": "moving-victory",
   "metadata": {},
   "outputs": [
    {
     "data": {
      "text/plain": [
       "LatentDirichletAllocation(n_components=15, random_state=18)"
      ]
     },
     "execution_count": 139,
     "metadata": {},
     "output_type": "execute_result"
    }
   ],
   "source": [
    "LDA = LatentDirichletAllocation(n_components=15,random_state=18)\n",
    "LDA.fit(dtm)"
   ]
  },
  {
   "cell_type": "code",
   "execution_count": 91,
   "id": "hidden-marijuana",
   "metadata": {},
   "outputs": [
    {
     "data": {
      "text/plain": [
       "21868"
      ]
     },
     "execution_count": 91,
     "metadata": {},
     "output_type": "execute_result"
    }
   ],
   "source": [
    "len(cv.get_feature_names())\n",
    "# holding an instance of every single word"
   ]
  },
  {
   "cell_type": "code",
   "execution_count": null,
   "id": "changing-yorkshire",
   "metadata": {},
   "outputs": [],
   "source": [
    "# LDA.components_\n",
    "# an array of probabilities per word per topic "
   ]
  },
  {
   "cell_type": "code",
   "execution_count": 141,
   "id": "dynamic-imperial",
   "metadata": {},
   "outputs": [
    {
     "name": "stdout",
     "output_type": "stream",
     "text": [
      "disease\n",
      "just\n",
      "dr\n",
      "news\n",
      "virus\n",
      "getty\n",
      "images\n",
      "vaccines\n",
      "new\n",
      "hospital\n",
      "coronavirus\n",
      "medical\n",
      "patients\n",
      "pandemic\n",
      "care\n",
      "vaccine\n",
      "19\n",
      "covid\n",
      "says\n",
      "health\n"
     ]
    }
   ],
   "source": [
    "topic_one = LDA.components_[0]\n",
    "topic_one.argsort()[-10:]\n",
    "# sorts the values, and returns the index values of the sorted list\n",
    "# aka show location of high probability \n",
    "# use index to get the word corresponding with that probability\n",
    "top_twenty_words = topic_one.argsort()[-20:]\n",
    "for index in top_twenty_words:\n",
    "    print(cv.get_feature_names()[index])"
   ]
  },
  {
   "cell_type": "markdown",
   "id": "hungry-links",
   "metadata": {},
   "source": [
    "### Interpret topics and assign to docs"
   ]
  },
  {
   "cell_type": "code",
   "execution_count": 142,
   "id": "desperate-generic",
   "metadata": {},
   "outputs": [
    {
     "name": "stdout",
     "output_type": "stream",
     "text": [
      "THE TOP 15 WORDS FOR TOPIC 1:\n",
      "['getty', 'images', 'vaccines', 'new', 'hospital', 'coronavirus', 'medical', 'patients', 'pandemic', 'care', 'vaccine', '19', 'covid', 'says', 'health']\n",
      "\n",
      "\n",
      "THE TOP 15 WORDS FOR TOPIC 2:\n",
      "['joe', 'officials', 'residents', 'palestinians', 'water', 'palestinian', 'st', 'killed', 'ap', 'city', 'says', 'gaza', 'israeli', 'npr', 'israel']\n",
      "\n",
      "\n",
      "THE TOP 15 WORDS FOR TOPIC 3:\n",
      "['national', 'years', 'korea', 'kim', 'state', 'church', 'north', 'intelligence', 'president', 'npr', 'prison', 'federal', 'death', 'biden', 'saudi']\n",
      "\n",
      "\n",
      "THE TOP 15 WORDS FOR TOPIC 4:\n",
      "['american', 'black', 'case', 'new', 'rights', 'atlanta', 'anti', 'right', 'women', 'hate', 'court', 'law', 'state', 'says', 'asian']\n",
      "\n",
      "\n",
      "THE TOP 15 WORDS FOR TOPIC 5:\n",
      "['justice', 'law', 'force', 'trial', 'black', 'year', 'city', 'attorney', 'chauvin', 'death', 'department', 'officer', 'floyd', 'officers', 'police']\n",
      "\n",
      "\n",
      "THE TOP 15 WORDS FOR TOPIC 6:\n",
      "['company', 'years', 'black', 'npr', 'twitter', 'new', 'time', 'think', 'media', 'social', 'just', 'power', 'like', 'facebook', 'says']\n",
      "\n",
      "\n",
      "THE TOP 15 WORDS FOR TOPIC 7:\n",
      "['national', 'data', 'years', 'trump', 'administration', 'state', 'bureau', 'npr', 'pack', 'government', 'says', 'agency', 'new', 'census', 'china']\n",
      "\n",
      "\n",
      "THE TOP 15 WORDS FOR TOPIC 8:\n",
      "['way', 'world', 'energy', 'know', 'don', 'company', 'companies', 'going', 'think', 'gas', 'new', 'like', 'just', 'climate', 'says']\n",
      "\n",
      "\n",
      "THE TOP 15 WORDS FOR TOPIC 9:\n",
      "['republicans', 'new', 'white', 'congress', 'images', 'getty', 'senate', 'federal', 'democrats', 'plan', 'trump', 'house', 'administration', 'president', 'biden']\n",
      "\n",
      "\n",
      "THE TOP 15 WORDS FOR TOPIC 10:\n",
      "['court', 'office', 'congress', 'vote', 'impeachment', 'republican', 'jan', 'getty', 'images', 'senate', 'election', 'house', 'capitol', 'president', 'trump']\n",
      "\n",
      "\n",
      "THE TOP 15 WORDS FOR TOPIC 11:\n",
      "['getty', 'vaccination', 'pfizer', 'new', 'public', 'mask', 'cdc', 'vaccines', 'vaccinated', 'health', 'coronavirus', '19', 'says', 'covid', 'vaccine']\n",
      "\n",
      "\n",
      "THE TOP 15 WORDS FOR TOPIC 12:\n",
      "['really', 'family', 'help', 'work', 'home', 'time', 'new', 'students', 'school', 'just', 'like', 'pandemic', 'year', 'npr', 'says']\n",
      "\n",
      "\n",
      "THE TOP 15 WORDS FOR TOPIC 13:\n",
      "['says', 'law', 'voter', 'new', 'vote', 'county', 'ballots', 'arizona', 'elections', 'npr', 'voters', 'election', 'georgia', 'voting', 'state']\n",
      "\n",
      "\n",
      "THE TOP 15 WORDS FOR TOPIC 14:\n",
      "['team', 'state', 'court', 'pharma', 'men', 'government', 'new', 'company', 'india', 'purdue', 'npr', 'ncaa', 'women', 'opioid', 'says']\n",
      "\n",
      "\n",
      "THE TOP 15 WORDS FOR TOPIC 15:\n",
      "['day', 'country', 'coup', 'company', 'sea', 'afp', 'year', 'afghanistan', 'myanmar', 'war', 'military', 'says', 'world', 'getty', 'images']\n",
      "\n",
      "\n"
     ]
    }
   ],
   "source": [
    "# Grab top 15 words per topic\n",
    "for i, topic in enumerate(LDA.components_,1):\n",
    "    print(f'THE TOP 15 WORDS FOR TOPIC {i}:')\n",
    "    print([cv.get_feature_names()[index] for index in topic.argsort()[-15:]])\n",
    "    print('\\n')"
   ]
  },
  {
   "cell_type": "code",
   "execution_count": 146,
   "id": "spread-director",
   "metadata": {},
   "outputs": [],
   "source": [
    "# Assign to docs\n",
    "topic_results = LDA.transform(dtm).round(2)\n",
    "df['topic_num'] = topic_results.argmax(axis=1)"
   ]
  },
  {
   "cell_type": "code",
   "execution_count": 147,
   "id": "premier-canal",
   "metadata": {},
   "outputs": [
    {
     "data": {
      "text/html": [
       "<div>\n",
       "<style scoped>\n",
       "    .dataframe tbody tr th:only-of-type {\n",
       "        vertical-align: middle;\n",
       "    }\n",
       "\n",
       "    .dataframe tbody tr th {\n",
       "        vertical-align: top;\n",
       "    }\n",
       "\n",
       "    .dataframe thead th {\n",
       "        text-align: right;\n",
       "    }\n",
       "</style>\n",
       "<table border=\"1\" class=\"dataframe\">\n",
       "  <thead>\n",
       "    <tr style=\"text-align: right;\">\n",
       "      <th></th>\n",
       "      <th>title</th>\n",
       "      <th>category</th>\n",
       "      <th>topic_num</th>\n",
       "    </tr>\n",
       "  </thead>\n",
       "  <tbody>\n",
       "    <tr>\n",
       "      <th>0</th>\n",
       "      <td>The Army Is Expanding Allowed Hairstyles For W...</td>\n",
       "      <td>National</td>\n",
       "      <td>0</td>\n",
       "    </tr>\n",
       "    <tr>\n",
       "      <th>1</th>\n",
       "      <td>Once Nearly Extinct, The Florida Panther Is Ma...</td>\n",
       "      <td>Environment</td>\n",
       "      <td>12</td>\n",
       "    </tr>\n",
       "    <tr>\n",
       "      <th>2</th>\n",
       "      <td>What The Rise Of Amazon Has To Do With The Ris...</td>\n",
       "      <td>Politics</td>\n",
       "      <td>11</td>\n",
       "    </tr>\n",
       "    <tr>\n",
       "      <th>3</th>\n",
       "      <td>The Youth Of Cuba's Tiny Jewish Minority</td>\n",
       "      <td>Politics</td>\n",
       "      <td>0</td>\n",
       "    </tr>\n",
       "    <tr>\n",
       "      <th>4</th>\n",
       "      <td>Melting Snow Usually Means Water For The West....</td>\n",
       "      <td>Environment</td>\n",
       "      <td>5</td>\n",
       "    </tr>\n",
       "    <tr>\n",
       "      <th>...</th>\n",
       "      <td>...</td>\n",
       "      <td>...</td>\n",
       "      <td>...</td>\n",
       "    </tr>\n",
       "    <tr>\n",
       "      <th>1339</th>\n",
       "      <td>President-Elect Biden Names Core Members Of Hi...</td>\n",
       "      <td>Biden Transition Updates</td>\n",
       "      <td>8</td>\n",
       "    </tr>\n",
       "    <tr>\n",
       "      <th>1340</th>\n",
       "      <td>Moderna's COVID-19 Vaccine Candidate Gets More...</td>\n",
       "      <td>The Coronavirus Crisis</td>\n",
       "      <td>10</td>\n",
       "    </tr>\n",
       "    <tr>\n",
       "      <th>1341</th>\n",
       "      <td>As Hospitals Fill With COVID-19 Patients, Medi...</td>\n",
       "      <td>Coronavirus By The Numbers</td>\n",
       "      <td>0</td>\n",
       "    </tr>\n",
       "    <tr>\n",
       "      <th>1342</th>\n",
       "      <td>IRS Says Its Own Error Sent $1,200 Stimulus Ch...</td>\n",
       "      <td>Investigations</td>\n",
       "      <td>8</td>\n",
       "    </tr>\n",
       "    <tr>\n",
       "      <th>1343</th>\n",
       "      <td>With 2020 Called A Success, Big Questions Lie ...</td>\n",
       "      <td>Elections</td>\n",
       "      <td>9</td>\n",
       "    </tr>\n",
       "  </tbody>\n",
       "</table>\n",
       "<p>1344 rows × 3 columns</p>\n",
       "</div>"
      ],
      "text/plain": [
       "                                                  title  \\\n",
       "0     The Army Is Expanding Allowed Hairstyles For W...   \n",
       "1     Once Nearly Extinct, The Florida Panther Is Ma...   \n",
       "2     What The Rise Of Amazon Has To Do With The Ris...   \n",
       "3              The Youth Of Cuba's Tiny Jewish Minority   \n",
       "4     Melting Snow Usually Means Water For The West....   \n",
       "...                                                 ...   \n",
       "1339  President-Elect Biden Names Core Members Of Hi...   \n",
       "1340  Moderna's COVID-19 Vaccine Candidate Gets More...   \n",
       "1341  As Hospitals Fill With COVID-19 Patients, Medi...   \n",
       "1342  IRS Says Its Own Error Sent $1,200 Stimulus Ch...   \n",
       "1343  With 2020 Called A Success, Big Questions Lie ...   \n",
       "\n",
       "                        category  topic_num  \n",
       "0                       National          0  \n",
       "1                    Environment         12  \n",
       "2                       Politics         11  \n",
       "3                       Politics          0  \n",
       "4                    Environment          5  \n",
       "...                          ...        ...  \n",
       "1339    Biden Transition Updates          8  \n",
       "1340      The Coronavirus Crisis         10  \n",
       "1341  Coronavirus By The Numbers          0  \n",
       "1342              Investigations          8  \n",
       "1343                   Elections          9  \n",
       "\n",
       "[1344 rows x 3 columns]"
      ]
     },
     "execution_count": 147,
     "metadata": {},
     "output_type": "execute_result"
    }
   ],
   "source": [
    "df[['title','category','topic_num']]"
   ]
  },
  {
   "cell_type": "code",
   "execution_count": null,
   "id": "worldwide-guarantee",
   "metadata": {},
   "outputs": [],
   "source": [
    "# map the topic numbers to words"
   ]
  },
  {
   "cell_type": "code",
   "execution_count": 148,
   "id": "binding-forest",
   "metadata": {},
   "outputs": [],
   "source": [
    "df['category'] = df['category'].apply(lambda x: str(x).strip())"
   ]
  },
  {
   "cell_type": "code",
   "execution_count": 137,
   "id": "independent-working",
   "metadata": {
    "collapsed": true,
    "jupyter": {
     "outputs_hidden": true
    },
    "tags": []
   },
   "outputs": [
    {
     "data": {
      "text/plain": [
       "{'50 Years Of NPR': [3],\n",
       " 'Africa': [0, 4],\n",
       " 'America Reckons With Racial Injustice': [4, 2, 0, 3, 1],\n",
       " 'Analysis': [1, 2],\n",
       " 'Animals': [0, 3, 4],\n",
       " 'Architecture': [3],\n",
       " 'Arts & Life': [3],\n",
       " 'Asia': [3, 4, 1, 2],\n",
       " 'Author Interviews': [4, 0, 2],\n",
       " 'Biden Transition Updates': [2, 0, 1],\n",
       " 'Bill Of The Month': [0],\n",
       " 'Book Reviews': [0],\n",
       " 'Books': [2, 4],\n",
       " 'Business': [3, 0, 2, 4],\n",
       " 'Capitol Insurrection Updates': [1],\n",
       " 'Code Switch': [0],\n",
       " 'Congress Weighs Action Against Trump: Live Updates': [1],\n",
       " \"Congress' Electoral College Tally: Live Updates\": [1],\n",
       " 'Consider This from NPR': [0, 3],\n",
       " 'Coronavirus By The Numbers': [0],\n",
       " 'Coronavirus Guide': [0],\n",
       " 'Coronavirus Live Updates': [0, 3, 2, 4],\n",
       " 'Coronavirus Updates': [0, 2, 3, 4],\n",
       " 'Coronavirus, Illustrated': [0],\n",
       " 'Criminal Justice Collaborative': [4, 0, 1],\n",
       " 'Culture': [3],\n",
       " 'Development': [0],\n",
       " 'Discipline And Women In Prison': [2],\n",
       " 'Economics': [0],\n",
       " 'Economy': [0, 2, 3],\n",
       " \"Editors' Picks\": [2, 3],\n",
       " 'Education': [0, 1, 4],\n",
       " 'Elections': [2, 1],\n",
       " 'Embedded': [4],\n",
       " 'Energy': [3],\n",
       " 'Enough Already: How The Pandemic Is Breaking Women': [0],\n",
       " 'Environment': [3, 0, 2],\n",
       " 'Environment And Energy Collaborative': [2],\n",
       " 'Europe': [3, 4, 1, 2],\n",
       " 'Fall 2020 College Road Trip': [0],\n",
       " 'Family': [0],\n",
       " 'Food': [3],\n",
       " 'Games': [3],\n",
       " 'Global Health': [0],\n",
       " 'Goats and Soda': [0, 3],\n",
       " 'Health': [0, 3, 2, 4],\n",
       " 'Health Care': [0],\n",
       " 'Health Inc.': [0, 4, 2],\n",
       " 'History': [1, 0],\n",
       " 'House Impeachment Vote: Live Updates': [1],\n",
       " 'How I Built This with Guy Raz': [0],\n",
       " 'Inauguration Day: Live Updates': [4, 1, 2],\n",
       " 'Infectious Disease': [0],\n",
       " 'Insurrection At The Capitol: Live Updates': [1, 3],\n",
       " 'Investigations': [0, 1, 2, 4, 3],\n",
       " 'Kitchen Table Conversations': [3],\n",
       " 'Latin America': [4, 2],\n",
       " 'Law': [2, 4, 1, 3, 0],\n",
       " 'Life Kit': [0],\n",
       " 'Live Updates: Protests For Racial Justice': [4, 3],\n",
       " \"Live Updates: Trial Over George Floyd's Killing\": [4],\n",
       " 'Live Updates: Winter Storms 2021': [3, 1],\n",
       " 'Media': [2, 0, 3, 4],\n",
       " 'Mental Health': [0],\n",
       " 'Middle East': [1, 3, 0, 2],\n",
       " 'Movie Interviews': [0],\n",
       " 'Movies': [3],\n",
       " 'Music': [3, 4],\n",
       " 'Music News': [4, 2, 3],\n",
       " 'NPR Ed': [0],\n",
       " 'National': [0, 2, 4, 3, 1],\n",
       " 'National Security': [1, 2, 3, 0, 4],\n",
       " 'Obituaries': [4, 0, 2, 1, 3],\n",
       " 'On Disabilities': [0, 3],\n",
       " 'Photography': [0],\n",
       " 'Planet Money': [0, 3],\n",
       " 'Policy-ish': [0, 2],\n",
       " 'Politics': [2, 1, 0, 3, 4],\n",
       " 'Pop Culture': [3],\n",
       " 'President Biden Takes Office': [0, 2, 3],\n",
       " 'Public Health': [0, 3],\n",
       " 'Race': [4, 0, 3],\n",
       " 'Religion': [1, 2],\n",
       " 'Science': [3, 0, 2],\n",
       " 'Shots - Health News': [0, 2, 3, 1, 4],\n",
       " 'Slingshot': [3],\n",
       " 'Space': [3],\n",
       " 'Sports': [3, 4, 0],\n",
       " 'StoryCorps': [4],\n",
       " 'Strange News': [2],\n",
       " 'Student Podcast Challenge': [0],\n",
       " 'Take A Number': [0],\n",
       " 'Technology': [3, 1, 0, 2, 4],\n",
       " 'Television': [2],\n",
       " 'The Coronavirus Crisis': [0, 3, 2, 1, 4],\n",
       " 'The Picture Show': [4, 1],\n",
       " 'Treatments': [0],\n",
       " 'Trump Impeachment Trial: Live Updates': [1],\n",
       " 'Untangling Disinformation': [0, 1, 2],\n",
       " 'Weather': [3, 0],\n",
       " 'Women & Girls': [0],\n",
       " 'World': [3, 2, 1, 4, 0],\n",
       " 'Your Health': [0, 3],\n",
       " 'Your Money': [2, 3],\n",
       " 'Youth': [3],\n",
       " 'nan': [0, 1]}"
      ]
     },
     "execution_count": 137,
     "metadata": {},
     "output_type": "execute_result"
    }
   ],
   "source": [
    "df.groupby(['category'])['topic_num'].apply(lambda grp: list(grp.value_counts().index)).to_dict()"
   ]
  },
  {
   "cell_type": "code",
   "execution_count": 138,
   "id": "prescription-magnitude",
   "metadata": {
    "collapsed": true,
    "jupyter": {
     "outputs_hidden": true
    },
    "tags": []
   },
   "outputs": [
    {
     "data": {
      "text/plain": [
       "{0: ['The Coronavirus Crisis',\n",
       "  'National',\n",
       "  'Shots - Health News',\n",
       "  'Goats and Soda',\n",
       "  'Coronavirus Updates',\n",
       "  'Public Health',\n",
       "  'Politics',\n",
       "  'Treatments',\n",
       "  'Education',\n",
       "  'Investigations',\n",
       "  'Your Health',\n",
       "  'Health',\n",
       "  'Infectious Disease',\n",
       "  'Economy',\n",
       "  'Business',\n",
       "  'Technology',\n",
       "  'Policy-ish',\n",
       "  'nan',\n",
       "  'World',\n",
       "  'Coronavirus Live Updates',\n",
       "  'Environment',\n",
       "  'Animals',\n",
       "  'Bill Of The Month',\n",
       "  'America Reckons With Racial Injustice',\n",
       "  'Coronavirus, Illustrated',\n",
       "  'Biden Transition Updates',\n",
       "  'Science',\n",
       "  'Obituaries',\n",
       "  'Untangling Disinformation',\n",
       "  'Author Interviews',\n",
       "  'Life Kit',\n",
       "  'Criminal Justice Collaborative',\n",
       "  'Family',\n",
       "  'Media',\n",
       "  'Law',\n",
       "  'Middle East',\n",
       "  'Coronavirus Guide',\n",
       "  'Health Care',\n",
       "  'On Disabilities',\n",
       "  'Health Inc.',\n",
       "  'Coronavirus By The Numbers',\n",
       "  'President Biden Takes Office',\n",
       "  'Global Health',\n",
       "  'How I Built This with Guy Raz',\n",
       "  'Women & Girls',\n",
       "  'National Security',\n",
       "  'Consider This from NPR',\n",
       "  'Economics',\n",
       "  'Weather',\n",
       "  'Race',\n",
       "  'Development',\n",
       "  'Mental Health',\n",
       "  'Africa',\n",
       "  'Book Reviews',\n",
       "  'Take A Number',\n",
       "  'Code Switch',\n",
       "  'Sports',\n",
       "  'Planet Money',\n",
       "  'History',\n",
       "  'Fall 2020 College Road Trip',\n",
       "  'Photography',\n",
       "  'NPR Ed',\n",
       "  'Enough Already: How The Pandemic Is Breaking Women',\n",
       "  'Movie Interviews',\n",
       "  'Student Podcast Challenge'],\n",
       " 1: ['Politics',\n",
       "  'National Security',\n",
       "  'Trump Impeachment Trial: Live Updates',\n",
       "  'National',\n",
       "  'Middle East',\n",
       "  'Technology',\n",
       "  'Law',\n",
       "  'Investigations',\n",
       "  'World',\n",
       "  'Insurrection At The Capitol: Live Updates',\n",
       "  'Analysis',\n",
       "  'The Coronavirus Crisis',\n",
       "  'Elections',\n",
       "  'Congress Weighs Action Against Trump: Live Updates',\n",
       "  'Education',\n",
       "  'History',\n",
       "  'Untangling Disinformation',\n",
       "  \"Congress' Electoral College Tally: Live Updates\",\n",
       "  'Religion',\n",
       "  'House Impeachment Vote: Live Updates',\n",
       "  'The Picture Show',\n",
       "  'Asia',\n",
       "  'Criminal Justice Collaborative',\n",
       "  'nan',\n",
       "  'Obituaries',\n",
       "  'Live Updates: Winter Storms 2021',\n",
       "  'Capitol Insurrection Updates',\n",
       "  'Inauguration Day: Live Updates',\n",
       "  'Shots - Health News',\n",
       "  'Biden Transition Updates',\n",
       "  'Europe',\n",
       "  'America Reckons With Racial Injustice'],\n",
       " 2: ['Politics',\n",
       "  'National',\n",
       "  'Law',\n",
       "  'Biden Transition Updates',\n",
       "  'Elections',\n",
       "  'World',\n",
       "  'National Security',\n",
       "  'The Coronavirus Crisis',\n",
       "  'Policy-ish',\n",
       "  'Investigations',\n",
       "  'Business',\n",
       "  'America Reckons With Racial Injustice',\n",
       "  'Media',\n",
       "  'Analysis',\n",
       "  'Technology',\n",
       "  'Obituaries',\n",
       "  'Author Interviews',\n",
       "  'Science',\n",
       "  'Books',\n",
       "  'Shots - Health News',\n",
       "  'Coronavirus Updates',\n",
       "  'Religion',\n",
       "  'Economy',\n",
       "  'Environment And Energy Collaborative',\n",
       "  'Coronavirus Live Updates',\n",
       "  'Untangling Disinformation',\n",
       "  'President Biden Takes Office',\n",
       "  'Inauguration Day: Live Updates',\n",
       "  'Latin America',\n",
       "  'Environment',\n",
       "  'Europe',\n",
       "  'Health Inc.',\n",
       "  \"Editors' Picks\",\n",
       "  'Asia',\n",
       "  'Television',\n",
       "  'Health',\n",
       "  'Your Money',\n",
       "  'Discipline And Women In Prison',\n",
       "  'Middle East',\n",
       "  'Music News',\n",
       "  'Strange News'],\n",
       " 3: ['World',\n",
       "  'Business',\n",
       "  'National',\n",
       "  'Technology',\n",
       "  'Sports',\n",
       "  'Politics',\n",
       "  'Environment',\n",
       "  'Asia',\n",
       "  'The Coronavirus Crisis',\n",
       "  'Science',\n",
       "  'Live Updates: Winter Storms 2021',\n",
       "  'Goats and Soda',\n",
       "  'Law',\n",
       "  'Middle East',\n",
       "  'Weather',\n",
       "  'Energy',\n",
       "  'Europe',\n",
       "  'Music',\n",
       "  'Your Health',\n",
       "  'National Security',\n",
       "  'Games',\n",
       "  'Architecture',\n",
       "  'Coronavirus Updates',\n",
       "  'Shots - Health News',\n",
       "  'Coronavirus Live Updates',\n",
       "  'Food',\n",
       "  'America Reckons With Racial Injustice',\n",
       "  'Economy',\n",
       "  'Space',\n",
       "  'Health',\n",
       "  'Investigations',\n",
       "  'Pop Culture',\n",
       "  'Kitchen Table Conversations',\n",
       "  'Animals',\n",
       "  'Consider This from NPR',\n",
       "  'Planet Money',\n",
       "  'Movies',\n",
       "  'Arts & Life',\n",
       "  'Public Health',\n",
       "  '50 Years Of NPR',\n",
       "  'Media',\n",
       "  'Obituaries',\n",
       "  \"Editors' Picks\",\n",
       "  'On Disabilities',\n",
       "  'Culture',\n",
       "  'Your Money',\n",
       "  'Race',\n",
       "  'President Biden Takes Office',\n",
       "  'Youth',\n",
       "  'Slingshot',\n",
       "  'Live Updates: Protests For Racial Justice',\n",
       "  'Insurrection At The Capitol: Live Updates',\n",
       "  'Music News'],\n",
       " 4: ['America Reckons With Racial Injustice',\n",
       "  'National',\n",
       "  'Law',\n",
       "  'Politics',\n",
       "  'Race',\n",
       "  'World',\n",
       "  'Obituaries',\n",
       "  'Author Interviews',\n",
       "  'Latin America',\n",
       "  'Criminal Justice Collaborative',\n",
       "  'Live Updates: Protests For Racial Justice',\n",
       "  \"Live Updates: Trial Over George Floyd's Killing\",\n",
       "  'Europe',\n",
       "  'Asia',\n",
       "  'The Coronavirus Crisis',\n",
       "  'Investigations',\n",
       "  'Education',\n",
       "  'Sports',\n",
       "  'Animals',\n",
       "  'Health',\n",
       "  'Embedded',\n",
       "  'Coronavirus Live Updates',\n",
       "  'Africa',\n",
       "  'StoryCorps',\n",
       "  'Books',\n",
       "  'Music',\n",
       "  'The Picture Show',\n",
       "  'Media',\n",
       "  'Business',\n",
       "  'Music News',\n",
       "  'Shots - Health News',\n",
       "  'Health Inc.',\n",
       "  'Technology',\n",
       "  'National Security',\n",
       "  'Inauguration Day: Live Updates',\n",
       "  'Coronavirus Updates']}"
      ]
     },
     "execution_count": 138,
     "metadata": {},
     "output_type": "execute_result"
    }
   ],
   "source": [
    "df.groupby(['topic_num'])['category'].apply(lambda grp: list(grp.value_counts().index)).to_dict()"
   ]
  },
  {
   "cell_type": "markdown",
   "id": "assisted-chassis",
   "metadata": {},
   "source": [
    "# Readability"
   ]
  },
  {
   "cell_type": "code",
   "execution_count": 149,
   "id": "worth-stadium",
   "metadata": {},
   "outputs": [],
   "source": [
    "import pickle\n",
    "with open('../project-checkpoints/mvp_readability_df.pkl', 'wb') as f:\n",
    "    pickle.dump(df[['title','article_text','topic_num']], f)"
   ]
  },
  {
   "cell_type": "code",
   "execution_count": 150,
   "id": "logical-buyer",
   "metadata": {},
   "outputs": [],
   "source": [
    "import textstat"
   ]
  },
  {
   "cell_type": "code",
   "execution_count": 151,
   "id": "suburban-opportunity",
   "metadata": {
    "tags": []
   },
   "outputs": [],
   "source": [
    "df['f_r_e'] = df['article_text'].apply(lambda x: textstat.flesch_reading_ease(x))"
   ]
  },
  {
   "cell_type": "code",
   "execution_count": 152,
   "id": "concrete-hospital",
   "metadata": {},
   "outputs": [],
   "source": [
    "df['ari_grade_level'] = df['article_text'].apply(lambda x: textstat.automated_readability_index(x))"
   ]
  },
  {
   "cell_type": "code",
   "execution_count": 153,
   "id": "strange-compact",
   "metadata": {
    "tags": []
   },
   "outputs": [
    {
     "data": {
      "text/html": [
       "<div>\n",
       "<style scoped>\n",
       "    .dataframe tbody tr th:only-of-type {\n",
       "        vertical-align: middle;\n",
       "    }\n",
       "\n",
       "    .dataframe tbody tr th {\n",
       "        vertical-align: top;\n",
       "    }\n",
       "\n",
       "    .dataframe thead th {\n",
       "        text-align: right;\n",
       "    }\n",
       "</style>\n",
       "<table border=\"1\" class=\"dataframe\">\n",
       "  <thead>\n",
       "    <tr style=\"text-align: right;\">\n",
       "      <th></th>\n",
       "      <th>title</th>\n",
       "      <th>article_text</th>\n",
       "      <th>topic_num</th>\n",
       "      <th>f_r_e</th>\n",
       "      <th>ari_grade_level</th>\n",
       "    </tr>\n",
       "  </thead>\n",
       "  <tbody>\n",
       "    <tr>\n",
       "      <th>0</th>\n",
       "      <td>The Army Is Expanding Allowed Hairstyles For W...</td>\n",
       "      <td>Enlarge this image An Army photo shows a soldi...</td>\n",
       "      <td>0</td>\n",
       "      <td>69.01</td>\n",
       "      <td>11.2</td>\n",
       "    </tr>\n",
       "    <tr>\n",
       "      <th>1</th>\n",
       "      <td>Once Nearly Extinct, The Florida Panther Is Ma...</td>\n",
       "      <td>Enlarge this image A male panther leaps over a...</td>\n",
       "      <td>12</td>\n",
       "      <td>66.27</td>\n",
       "      <td>12.3</td>\n",
       "    </tr>\n",
       "    <tr>\n",
       "      <th>2</th>\n",
       "      <td>What The Rise Of Amazon Has To Do With The Ris...</td>\n",
       "      <td>Enlarge this image Members of the Workers Asse...</td>\n",
       "      <td>11</td>\n",
       "      <td>63.43</td>\n",
       "      <td>12.9</td>\n",
       "    </tr>\n",
       "    <tr>\n",
       "      <th>3</th>\n",
       "      <td>The Youth Of Cuba's Tiny Jewish Minority</td>\n",
       "      <td>Enlarge this image Adri Quiñones, center, lead...</td>\n",
       "      <td>0</td>\n",
       "      <td>58.82</td>\n",
       "      <td>13.2</td>\n",
       "    </tr>\n",
       "    <tr>\n",
       "      <th>4</th>\n",
       "      <td>Melting Snow Usually Means Water For The West....</td>\n",
       "      <td>Enlarge this image Colorado Snow Survey superv...</td>\n",
       "      <td>5</td>\n",
       "      <td>51.82</td>\n",
       "      <td>16.3</td>\n",
       "    </tr>\n",
       "    <tr>\n",
       "      <th>...</th>\n",
       "      <td>...</td>\n",
       "      <td>...</td>\n",
       "      <td>...</td>\n",
       "      <td>...</td>\n",
       "      <td>...</td>\n",
       "    </tr>\n",
       "    <tr>\n",
       "      <th>1339</th>\n",
       "      <td>President-Elect Biden Names Core Members Of Hi...</td>\n",
       "      <td>Enlarge this image President-elect Joe Biden h...</td>\n",
       "      <td>8</td>\n",
       "      <td>49.45</td>\n",
       "      <td>14.3</td>\n",
       "    </tr>\n",
       "    <tr>\n",
       "      <th>1340</th>\n",
       "      <td>Moderna's COVID-19 Vaccine Candidate Gets More...</td>\n",
       "      <td>Enlarge this image Moderna protocol files for ...</td>\n",
       "      <td>10</td>\n",
       "      <td>46.91</td>\n",
       "      <td>14.5</td>\n",
       "    </tr>\n",
       "    <tr>\n",
       "      <th>1341</th>\n",
       "      <td>As Hospitals Fill With COVID-19 Patients, Medi...</td>\n",
       "      <td>Enlarge this image Tennessee Gov. Bill Lee (ri...</td>\n",
       "      <td>0</td>\n",
       "      <td>57.71</td>\n",
       "      <td>14.0</td>\n",
       "    </tr>\n",
       "    <tr>\n",
       "      <th>1342</th>\n",
       "      <td>IRS Says Its Own Error Sent $1,200 Stimulus Ch...</td>\n",
       "      <td>Enlarge this image An error at the IRS caused ...</td>\n",
       "      <td>8</td>\n",
       "      <td>51.82</td>\n",
       "      <td>16.0</td>\n",
       "    </tr>\n",
       "    <tr>\n",
       "      <th>1343</th>\n",
       "      <td>With 2020 Called A Success, Big Questions Lie ...</td>\n",
       "      <td>Enlarge this image After a highly fraught but ...</td>\n",
       "      <td>9</td>\n",
       "      <td>47.01</td>\n",
       "      <td>16.1</td>\n",
       "    </tr>\n",
       "  </tbody>\n",
       "</table>\n",
       "<p>1344 rows × 5 columns</p>\n",
       "</div>"
      ],
      "text/plain": [
       "                                                  title  \\\n",
       "0     The Army Is Expanding Allowed Hairstyles For W...   \n",
       "1     Once Nearly Extinct, The Florida Panther Is Ma...   \n",
       "2     What The Rise Of Amazon Has To Do With The Ris...   \n",
       "3              The Youth Of Cuba's Tiny Jewish Minority   \n",
       "4     Melting Snow Usually Means Water For The West....   \n",
       "...                                                 ...   \n",
       "1339  President-Elect Biden Names Core Members Of Hi...   \n",
       "1340  Moderna's COVID-19 Vaccine Candidate Gets More...   \n",
       "1341  As Hospitals Fill With COVID-19 Patients, Medi...   \n",
       "1342  IRS Says Its Own Error Sent $1,200 Stimulus Ch...   \n",
       "1343  With 2020 Called A Success, Big Questions Lie ...   \n",
       "\n",
       "                                           article_text  topic_num  f_r_e  \\\n",
       "0     Enlarge this image An Army photo shows a soldi...          0  69.01   \n",
       "1     Enlarge this image A male panther leaps over a...         12  66.27   \n",
       "2     Enlarge this image Members of the Workers Asse...         11  63.43   \n",
       "3     Enlarge this image Adri Quiñones, center, lead...          0  58.82   \n",
       "4     Enlarge this image Colorado Snow Survey superv...          5  51.82   \n",
       "...                                                 ...        ...    ...   \n",
       "1339  Enlarge this image President-elect Joe Biden h...          8  49.45   \n",
       "1340  Enlarge this image Moderna protocol files for ...         10  46.91   \n",
       "1341  Enlarge this image Tennessee Gov. Bill Lee (ri...          0  57.71   \n",
       "1342  Enlarge this image An error at the IRS caused ...          8  51.82   \n",
       "1343  Enlarge this image After a highly fraught but ...          9  47.01   \n",
       "\n",
       "      ari_grade_level  \n",
       "0                11.2  \n",
       "1                12.3  \n",
       "2                12.9  \n",
       "3                13.2  \n",
       "4                16.3  \n",
       "...               ...  \n",
       "1339             14.3  \n",
       "1340             14.5  \n",
       "1341             14.0  \n",
       "1342             16.0  \n",
       "1343             16.1  \n",
       "\n",
       "[1344 rows x 5 columns]"
      ]
     },
     "execution_count": 153,
     "metadata": {},
     "output_type": "execute_result"
    }
   ],
   "source": [
    "df[['title','article_text','topic_num','f_r_e','ari_grade_level']]"
   ]
  },
  {
   "cell_type": "code",
   "execution_count": 154,
   "id": "legendary-likelihood",
   "metadata": {},
   "outputs": [
    {
     "data": {
      "text/plain": [
       "topic_num\n",
       "0     53.422892\n",
       "1     55.434242\n",
       "2     47.983636\n",
       "3     51.156604\n",
       "4     53.066667\n",
       "5     54.500874\n",
       "6     45.724348\n",
       "7     53.188485\n",
       "8     47.892867\n",
       "9     49.849368\n",
       "10    50.893500\n",
       "11    57.837784\n",
       "12    52.806667\n",
       "13    50.574412\n",
       "14    54.221892\n",
       "Name: f_r_e, dtype: float64"
      ]
     },
     "execution_count": 154,
     "metadata": {},
     "output_type": "execute_result"
    }
   ],
   "source": [
    "df.groupby(['topic_num'])['f_r_e'].mean()"
   ]
  },
  {
   "cell_type": "code",
   "execution_count": 155,
   "id": "thrown-settlement",
   "metadata": {},
   "outputs": [
    {
     "data": {
      "text/plain": [
       "count    1344.000000\n",
       "mean       15.506845\n",
       "std         2.981374\n",
       "min         5.800000\n",
       "25%        13.600000\n",
       "50%        15.400000\n",
       "75%        17.300000\n",
       "max        42.100000\n",
       "Name: ari_grade_level, dtype: float64"
      ]
     },
     "execution_count": 155,
     "metadata": {},
     "output_type": "execute_result"
    }
   ],
   "source": [
    "df['ari_grade_level'].describe()"
   ]
  },
  {
   "cell_type": "code",
   "execution_count": 156,
   "id": "unknown-ballot",
   "metadata": {},
   "outputs": [
    {
     "data": {
      "text/plain": [
       "count    1344.000000\n",
       "mean       52.190796\n",
       "std         9.518520\n",
       "min        -4.250000\n",
       "25%        45.900000\n",
       "50%        52.430000\n",
       "75%        58.020000\n",
       "max        85.180000\n",
       "Name: f_r_e, dtype: float64"
      ]
     },
     "execution_count": 156,
     "metadata": {},
     "output_type": "execute_result"
    }
   ],
   "source": [
    "df['f_r_e'].describe()"
   ]
  }
 ],
 "metadata": {
  "kernelspec": {
   "display_name": "Python [conda env:metis] *",
   "language": "python",
   "name": "conda-env-metis-py"
  },
  "language_info": {
   "codemirror_mode": {
    "name": "ipython",
    "version": 3
   },
   "file_extension": ".py",
   "mimetype": "text/x-python",
   "name": "python",
   "nbconvert_exporter": "python",
   "pygments_lexer": "ipython3",
   "version": "3.8.8"
  }
 },
 "nbformat": 4,
 "nbformat_minor": 5
}
