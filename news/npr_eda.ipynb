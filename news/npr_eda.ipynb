{
 "cells": [
  {
   "cell_type": "code",
   "execution_count": 40,
   "id": "sublime-association",
   "metadata": {},
   "outputs": [],
   "source": [
    "import pandas as pd\n",
    "from sklearn.feature_extraction.text import CountVectorizer"
   ]
  },
  {
   "cell_type": "code",
   "execution_count": 8,
   "id": "answering-entry",
   "metadata": {},
   "outputs": [],
   "source": [
    "nlp = spacy.load('en_core_web_sm')"
   ]
  },
  {
   "cell_type": "code",
   "execution_count": 41,
   "id": "fallen-allergy",
   "metadata": {},
   "outputs": [],
   "source": [
    "df = pd.read_csv('files/article_items.csv',parse_dates=['date'])"
   ]
  },
  {
   "cell_type": "code",
   "execution_count": 42,
   "id": "executive-trainer",
   "metadata": {},
   "outputs": [
    {
     "name": "stdout",
     "output_type": "stream",
     "text": [
      "<class 'pandas.core.frame.DataFrame'>\n",
      "RangeIndex: 1344 entries, 0 to 1343\n",
      "Data columns (total 7 columns):\n",
      " #   Column        Non-Null Count  Dtype \n",
      "---  ------        --------------  ----- \n",
      " 0   Unnamed: 0    1344 non-null   int64 \n",
      " 1   idx           1344 non-null   int64 \n",
      " 2   date          1344 non-null   object\n",
      " 3   category      1338 non-null   object\n",
      " 4   authors       1344 non-null   object\n",
      " 5   title         1344 non-null   object\n",
      " 6   article_text  1344 non-null   object\n",
      "dtypes: int64(2), object(5)\n",
      "memory usage: 73.6+ KB\n"
     ]
    }
   ],
   "source": [
    "df.info()"
   ]
  },
  {
   "cell_type": "code",
   "execution_count": 43,
   "id": "realistic-price",
   "metadata": {},
   "outputs": [
    {
     "data": {
      "text/plain": [
       "132"
      ]
     },
     "execution_count": 43,
     "metadata": {},
     "output_type": "execute_result"
    }
   ],
   "source": [
    "df['category'].nunique()"
   ]
  },
  {
   "cell_type": "code",
   "execution_count": 44,
   "id": "spread-retro",
   "metadata": {},
   "outputs": [
    {
     "data": {
      "text/plain": [
       "array(['National', 'Environment', 'Politics', 'Environment ',\n",
       "       'Music News', 'Middle East', 'World ', 'Education', 'Technology',\n",
       "       'The Coronavirus Crisis', 'Goats and Soda ', 'Energy ', 'World',\n",
       "       'Animals', 'Shots - Health News ', 'Infectious Disease',\n",
       "       'Business', 'Criminal Justice Collaborative ', 'Your Health',\n",
       "       'The Coronavirus Crisis ', 'Investigations',\n",
       "       'America Reckons With Racial Injustice ',\n",
       "       'Untangling Disinformation ', 'Law', 'Student Podcast Challenge ',\n",
       "       'Public Health', 'National ', 'Race', 'Coronavirus Live Updates ',\n",
       "       'Analysis', 'Technology ', 'Photography', 'Health',\n",
       "       'Planet Money ', 'National Security', 'Treatments', 'Science ',\n",
       "       'Law ', 'Elections', 'Coronavirus Updates',\n",
       "       'America Reckons With Racial Injustice', 'Obituaries', 'Family',\n",
       "       'Coronavirus Updates ', 'Politics ', 'Author Interviews', 'Sports',\n",
       "       'Space', 'History', 'Science', 'Architecture', '50 Years Of NPR ',\n",
       "       'Europe', 'Economy ', 'Energy', 'Business ', 'Bill Of The Month',\n",
       "       'Slingshot ', 'Books', 'Health Inc.',\n",
       "       \"Live Updates: Trial Over George Floyd's Killing  \", nan,\n",
       "       'Health ', 'Latin America', 'National Security ', 'Policy-ish',\n",
       "       'Asia', 'Africa ', 'Fall 2020 College Road Trip  ', 'Television',\n",
       "       'Africa', 'On Disabilities', 'Economy', 'Code Switch ',\n",
       "       'Arts & Life', 'Weather', 'Food', 'Music', 'Music ',\n",
       "       'Discipline And Women In Prison ', \"Editors' Picks\",\n",
       "       'Kitchen Table Conversations ', 'Embedded ', 'Religion', 'Games',\n",
       "       'Pop Culture', 'Life Kit', 'Your Money', 'Investigations ',\n",
       "       'NPR Ed ', 'Sports ', 'Movie Interviews',\n",
       "       'Biden Transition Updates ', 'Race ', 'Media',\n",
       "       'Consider This from NPR ', 'Live Updates: Winter Storms 2021 ',\n",
       "       'Women & Girls', 'Coronavirus By The Numbers',\n",
       "       'Enough Already: How The Pandemic Is Breaking Women ',\n",
       "       'Live Updates: Winter Storms 2021', 'Economics',\n",
       "       'Live Updates: Protests For Racial Justice ',\n",
       "       'Trump Impeachment Trial: Live Updates ', 'Elections ',\n",
       "       'Education ', 'Culture', 'Coronavirus, Illustrated', 'Life Kit ',\n",
       "       'How I Built This with Guy Raz ', 'President Biden Takes Office ',\n",
       "       'Inauguration Day: Live Updates ', 'Take A Number ',\n",
       "       \"Editors' Picks \", 'The Picture Show ', 'Health Care',\n",
       "       'StoryCorps ', 'House Impeachment Vote: Live Updates ',\n",
       "       'Congress Weighs Action Against Trump: Live Updates ',\n",
       "       'Capitol Insurrection Updates', 'Analysis ', 'Development',\n",
       "       'Insurrection At The Capitol: Live Updates ',\n",
       "       \"Congress' Electoral College Tally: Live Updates \", 'Health Care ',\n",
       "       'Environment And Energy Collaborative ', 'Coronavirus Guide',\n",
       "       'Youth', 'Global Health ', 'Book Reviews ', 'Movies',\n",
       "       'Strange News', 'Mental Health'], dtype=object)"
      ]
     },
     "execution_count": 44,
     "metadata": {},
     "output_type": "execute_result"
    }
   ],
   "source": [
    "df['category'].unique()"
   ]
  },
  {
   "cell_type": "code",
   "execution_count": 46,
   "id": "ceramic-jimmy",
   "metadata": {},
   "outputs": [
    {
     "data": {
      "text/plain": [
       "'Enlarge this image An Army photo shows a soldier wearing a new approved ponytail hairstyle. U.S. Army hide caption toggle caption U.S. Army An Army photo shows a soldier wearing a new approved ponytail hairstyle. U.S. Army The Army is now allowing female soldiers to wear their hair in ponytails in all uniforms, in a change announced earlier this month. It expands on hair guidelines announced in January. For years, many women in the Army were required to keep their hair in a tight bun. The newest changes mean women can keep their hair either a bun, single ponytail, two braids or a single braid; locks, braids, twists or cornrows can come together in one or two braids or a ponytail; and braids or a ponytail can go as far down as the bottom of the shoulder blades. There are exceptions on the length of the ponytail or braid for women doing tactical or physical training, the Army says. In other changes this year, hair highlights are now allowed in natural colors, lipstick and nail polish allowed in \"non-extreme\" colors for women, earrings allowed for women in combat uniforms, and clear nail polish allowed for men. Enlarge this image Another newly approved ponytail, as shown in an Army photo. U.S. Army hide caption toggle caption U.S. Army Another newly approved ponytail, as shown in an Army photo. U.S. Army The Army acknowledged in announcing the latest update that repeatedly pulling hair into a tight bun could lead to hair loss. Sgt. Nicole Pierce, a behavioral health noncommissioned officer stationed at Fort Sill in Oklahoma, tells NPR\\'s Weekend Edition that \"tightening of the bun has really over the years pulled my hair out.\" It added to postpartum hair loss she was experiencing. She also got headaches. Now says she she\\'s feeling the \"happiness of just having the option of how we want to do our hair: bun, ponytail, braids. I\\'m just excited that we have options.\" Staff Sgt. April Schacher, a flight operations specialist assigned to Fort Belvoir in Virginia, says the buns would make it difficult to wear a helmet during training. It \"would affect how low the helmet lies on our eyes, so, especially with shooting our weapons, that did affect being able to see the target properly,\" she says. The Picture Show Black Enterprise, Tradition And Culture At The Bronner Bros. Hair Show The new guidelines expand the options for Black women\\'s hair. In 2014, members of the Congressional Black Caucus wrote a letter to the secretary of defense over rules at the time about Black women\\'s twists and braids. \"African American women have often been required to meet unreasonable norms as it relates to acceptable standards of grooming in the workplace,\" the lawmakers wrote. The Army first allowed some women to have some types of locks in 2017. Maj. Faren Aimee Campbell, who works in Army logistics in Silver Spring, Md., experienced hair loss and damage from keeping her hair in a bun. So she chose to shave her head. Completely shaved heads used to be against the rules that required hair to be at least 1/4 inch long. Not anymore. \"It\\'s been a very freeing change within the regulation,\" Campbell says. The latest update also \"removes potentially offensive language used to describe several hairstyles,\" the Army said. Code Switch The Army Reconsiders Its Opposition To Cornrows And Dreadlocks The Army notes that \"professionalism\" is important in how soldiers appear. Maj. Terri Taylor, who is stationed at Fort Stewart in Georgia, says being professional isn\\'t limited to one hairstyle. She used to use chemical relaxer in her hair, but now wears her hair in barrel rolls. \"Who\\'s to say that a ponytail is not professional in appearance? Who\\'s to say that locks are not professional in appearance? As long as you can properly wear your headgear and look professional in your uniform, I think that\\'s what matters at the end of the day.\" Gabriel Dunatov and Melissa Gray produced and edited the audio story.'"
      ]
     },
     "execution_count": 46,
     "metadata": {},
     "output_type": "execute_result"
    }
   ],
   "source": [
    "df['article_text'][0]"
   ]
  }
 ],
 "metadata": {
  "kernelspec": {
   "display_name": "Python [conda env:metis] *",
   "language": "python",
   "name": "conda-env-metis-py"
  },
  "language_info": {
   "codemirror_mode": {
    "name": "ipython",
    "version": 3
   },
   "file_extension": ".py",
   "mimetype": "text/x-python",
   "name": "python",
   "nbconvert_exporter": "python",
   "pygments_lexer": "ipython3",
   "version": "3.8.8"
  }
 },
 "nbformat": 4,
 "nbformat_minor": 5
}
