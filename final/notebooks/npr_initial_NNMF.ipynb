{
 "cells": [
  {
   "cell_type": "code",
   "execution_count": 1,
   "id": "closed-moldova",
   "metadata": {},
   "outputs": [],
   "source": [
    "import pandas as pd"
   ]
  },
  {
   "cell_type": "code",
   "execution_count": 2,
   "id": "great-professor",
   "metadata": {},
   "outputs": [],
   "source": [
    "df = pd.read_csv('files/article_items.csv',parse_dates=['date'])"
   ]
  },
  {
   "cell_type": "code",
   "execution_count": 3,
   "id": "julian-selling",
   "metadata": {},
   "outputs": [
    {
     "name": "stdout",
     "output_type": "stream",
     "text": [
      "<class 'pandas.core.frame.DataFrame'>\n",
      "RangeIndex: 1344 entries, 0 to 1343\n",
      "Data columns (total 7 columns):\n",
      " #   Column        Non-Null Count  Dtype \n",
      "---  ------        --------------  ----- \n",
      " 0   Unnamed: 0    1344 non-null   int64 \n",
      " 1   idx           1344 non-null   int64 \n",
      " 2   date          1344 non-null   object\n",
      " 3   category      1338 non-null   object\n",
      " 4   authors       1344 non-null   object\n",
      " 5   title         1344 non-null   object\n",
      " 6   article_text  1344 non-null   object\n",
      "dtypes: int64(2), object(5)\n",
      "memory usage: 73.6+ KB\n"
     ]
    }
   ],
   "source": [
    "df.info()"
   ]
  },
  {
   "cell_type": "markdown",
   "id": "mineral-territory",
   "metadata": {},
   "source": [
    "# NNMF WORKFLOW"
   ]
  },
  {
   "cell_type": "code",
   "execution_count": 6,
   "id": "protective-variable",
   "metadata": {},
   "outputs": [],
   "source": [
    "from sklearn.feature_extraction.text import TfidfVectorizer"
   ]
  },
  {
   "cell_type": "code",
   "execution_count": 8,
   "id": "wrapped-workplace",
   "metadata": {},
   "outputs": [],
   "source": [
    "tfidf = TfidfVectorizer(max_df = .80, min_df = 2, stop_words = 'english')"
   ]
  },
  {
   "cell_type": "code",
   "execution_count": 10,
   "id": "thousand-heading",
   "metadata": {},
   "outputs": [],
   "source": [
    "dtm = tfidf.fit_transform(df['article_text'])"
   ]
  },
  {
   "cell_type": "markdown",
   "id": "worthy-classic",
   "metadata": {},
   "source": [
    "### Construct vector space model for documents (after stopword filtering), resulting in a document-term matrix"
   ]
  },
  {
   "cell_type": "code",
   "execution_count": 11,
   "id": "vertical-driver",
   "metadata": {},
   "outputs": [],
   "source": [
    "from sklearn.decomposition import NMF"
   ]
  },
  {
   "cell_type": "code",
   "execution_count": null,
   "id": "correct-material",
   "metadata": {},
   "outputs": [],
   "source": [
    "nmf = NMF(n_components=12, random_state=18)\n",
    "nmf.fit(dtm)"
   ]
  },
  {
   "cell_type": "code",
   "execution_count": 41,
   "id": "critical-kernel",
   "metadata": {},
   "outputs": [
    {
     "data": {
      "text/plain": [
       "21866"
      ]
     },
     "execution_count": 41,
     "metadata": {},
     "output_type": "execute_result"
    }
   ],
   "source": [
    "# Look at words/coefficients\n",
    "len(tfidf.get_feature_names())\n",
    "# holding an instance of every single word\n",
    "\n",
    "# nfm.components_\n",
    "# an array of coefficients per word per topic "
   ]
  },
  {
   "cell_type": "markdown",
   "id": "acute-anger",
   "metadata": {},
   "source": [
    "### Interpret topics based off the coefficient values of the words per topic"
   ]
  },
  {
   "cell_type": "code",
   "execution_count": 42,
   "id": "permanent-imagination",
   "metadata": {},
   "outputs": [
    {
     "name": "stdout",
     "output_type": "stream",
     "text": [
      "THE TOP 15 WORDS FOR TOPIC 0:\n",
      "['cases', 'dr', 'new', 'virus', 'medical', 'coronavirus', 'hospitals', 'pandemic', 'hospital', 'patients', 'care', '19', 'covid', 'says', 'health']\n",
      "\n",
      "\n",
      "THE TOP 15 WORDS FOR TOPIC 1:\n",
      "['office', 'republican', 'election', 'vote', 'donald', 'pence', 'raskin', 'managers', 'senate', 'house', 'capitol', 'trial', 'president', 'impeachment', 'trump']\n",
      "\n",
      "\n",
      "THE TOP 15 WORDS FOR TOPIC 2:\n",
      "['getty', 'riot', 'rioters', 'images', 'guard', 'law', 'enforcement', 'department', 'fbi', 'officer', 'security', 'jan', 'officers', 'police', 'capitol']\n",
      "\n",
      "\n",
      "THE TOP 15 WORDS FOR TOPIC 3:\n",
      "['says', 'shot', 'shots', 'dose', 'johnson', 'moderna', 'health', 'vaccinated', 'pfizer', '19', 'vaccination', 'covid', 'doses', 'vaccines', 'vaccine']\n",
      "\n",
      "\n",
      "THE TOP 15 WORDS FOR TOPIC 4:\n",
      "['tax', 'economy', 'package', 'white', 'infrastructure', 'congress', 'republicans', 'relief', 'plan', 'administration', 'senate', 'democrats', 'house', 'president', 'biden']\n",
      "\n",
      "\n",
      "THE TOP 15 WORDS FOR TOPIC 5:\n",
      "['security', 'chinese', 'intelligence', 'world', 'military', 'npr', 'oil', 'agency', 'power', 'government', 'russia', 'says', 'pack', 'climate', 'china']\n",
      "\n",
      "\n",
      "THE TOP 15 WORDS FOR TOPIC 6:\n",
      "['party', 'voter', 'senate', 'democrats', 'arizona', 'ballots', 'republicans', 'elections', 'republican', 'vote', 'state', 'voters', 'georgia', 'voting', 'election']\n",
      "\n",
      "\n",
      "THE TOP 15 WORDS FOR TOPIC 7:\n",
      "['jury', 'blackwell', 'murder', 'court', 'death', 'nelson', 'george', 'derek', 'trial', 'officer', 'minneapolis', 'officers', 'police', 'chauvin', 'floyd']\n",
      "\n",
      "\n",
      "THE TOP 15 WORDS FOR TOPIC 8:\n",
      "['killed', 'rocket', 'militants', 'violence', 'arab', 'israelis', 'netanyahu', 'rockets', 'jerusalem', 'hamas', 'palestinians', 'palestinian', 'gaza', 'israeli', 'israel']\n",
      "\n",
      "\n",
      "THE TOP 15 WORDS FOR TOPIC 9:\n",
      "['npr', 'student', 'person', 'children', 'like', 'parents', 'college', 'education', 'kids', 'learning', 'teachers', 'says', 'schools', 'school', 'students']\n",
      "\n",
      "\n",
      "THE TOP 15 WORDS FOR TOPIC 10:\n",
      "['results', 'federal', 'law', 'numbers', 'unauthorized', 'data', 'administration', 'apportionment', 'immigrants', 'count', 'supreme', 'trump', 'court', 'bureau', 'census']\n",
      "\n",
      "\n",
      "THE TOP 15 WORDS FOR TOPIC 11:\n",
      "['apple', 'platforms', 'misinformation', 'trump', 'users', 'zuckerberg', 'companies', 'google', 'content', 'tech', 'twitter', 'social', 'media', 'company', 'facebook']\n",
      "\n",
      "\n"
     ]
    }
   ],
   "source": [
    "# Grab 15 words with highest coefficients per topic\n",
    "for i, topic in enumerate(nmf.components_):\n",
    "    print(f'THE TOP 15 WORDS FOR TOPIC {i}:')\n",
    "    print([tfidf.get_feature_names()[index] for index in topic.argsort()[-15:]])\n",
    "    print('\\n')"
   ]
  },
  {
   "cell_type": "markdown",
   "id": "sunset-mailman",
   "metadata": {},
   "source": [
    "### Assign to Docs"
   ]
  },
  {
   "cell_type": "code",
   "execution_count": 62,
   "id": "false-white",
   "metadata": {},
   "outputs": [],
   "source": [
    "topic_results = nmf.transform(dtm).round(3)\n",
    "df['topic_num'] = topic_results.argmax(axis=1)"
   ]
  },
  {
   "cell_type": "code",
   "execution_count": 57,
   "id": "accredited-immigration",
   "metadata": {},
   "outputs": [
    {
     "data": {
      "text/plain": [
       "(1344, 12)"
      ]
     },
     "execution_count": 57,
     "metadata": {},
     "output_type": "execute_result"
    }
   ],
   "source": [
    "topic_results.shape"
   ]
  },
  {
   "cell_type": "code",
   "execution_count": 63,
   "id": "jewish-cache",
   "metadata": {},
   "outputs": [
    {
     "data": {
      "text/plain": [
       "array([0.014, 0.   , 0.01 , 0.   , 0.   , 0.019, 0.005, 0.004, 0.001,\n",
       "       0.031, 0.   , 0.   ])"
      ]
     },
     "execution_count": 63,
     "metadata": {},
     "output_type": "execute_result"
    }
   ],
   "source": [
    "topic_results[0]"
   ]
  },
  {
   "cell_type": "code",
   "execution_count": 44,
   "id": "interstate-dayton",
   "metadata": {},
   "outputs": [],
   "source": [
    "df['category'] = df['category'].apply(lambda x: str(x).strip())"
   ]
  },
  {
   "cell_type": "code",
   "execution_count": 45,
   "id": "elect-recognition",
   "metadata": {},
   "outputs": [
    {
     "data": {
      "text/html": [
       "<div>\n",
       "<style scoped>\n",
       "    .dataframe tbody tr th:only-of-type {\n",
       "        vertical-align: middle;\n",
       "    }\n",
       "\n",
       "    .dataframe tbody tr th {\n",
       "        vertical-align: top;\n",
       "    }\n",
       "\n",
       "    .dataframe thead th {\n",
       "        text-align: right;\n",
       "    }\n",
       "</style>\n",
       "<table border=\"1\" class=\"dataframe\">\n",
       "  <thead>\n",
       "    <tr style=\"text-align: right;\">\n",
       "      <th></th>\n",
       "      <th>title</th>\n",
       "      <th>category</th>\n",
       "      <th>topic_num</th>\n",
       "    </tr>\n",
       "  </thead>\n",
       "  <tbody>\n",
       "    <tr>\n",
       "      <th>0</th>\n",
       "      <td>The Army Is Expanding Allowed Hairstyles For W...</td>\n",
       "      <td>National</td>\n",
       "      <td>9</td>\n",
       "    </tr>\n",
       "    <tr>\n",
       "      <th>1</th>\n",
       "      <td>Once Nearly Extinct, The Florida Panther Is Ma...</td>\n",
       "      <td>Environment</td>\n",
       "      <td>5</td>\n",
       "    </tr>\n",
       "    <tr>\n",
       "      <th>2</th>\n",
       "      <td>What The Rise Of Amazon Has To Do With The Ris...</td>\n",
       "      <td>Politics</td>\n",
       "      <td>11</td>\n",
       "    </tr>\n",
       "    <tr>\n",
       "      <th>3</th>\n",
       "      <td>The Youth Of Cuba's Tiny Jewish Minority</td>\n",
       "      <td>Politics</td>\n",
       "      <td>9</td>\n",
       "    </tr>\n",
       "    <tr>\n",
       "      <th>4</th>\n",
       "      <td>Melting Snow Usually Means Water For The West....</td>\n",
       "      <td>Environment</td>\n",
       "      <td>5</td>\n",
       "    </tr>\n",
       "  </tbody>\n",
       "</table>\n",
       "</div>"
      ],
      "text/plain": [
       "                                               title     category  topic_num\n",
       "0  The Army Is Expanding Allowed Hairstyles For W...     National          9\n",
       "1  Once Nearly Extinct, The Florida Panther Is Ma...  Environment          5\n",
       "2  What The Rise Of Amazon Has To Do With The Ris...     Politics         11\n",
       "3           The Youth Of Cuba's Tiny Jewish Minority     Politics          9\n",
       "4  Melting Snow Usually Means Water For The West....  Environment          5"
      ]
     },
     "execution_count": 45,
     "metadata": {},
     "output_type": "execute_result"
    }
   ],
   "source": [
    "df[['title','category','topic_num']].head()"
   ]
  },
  {
   "cell_type": "markdown",
   "id": "vital-setting",
   "metadata": {},
   "source": [
    "### NNMF Topic as Corresponding to Article Title"
   ]
  },
  {
   "cell_type": "code",
   "execution_count": null,
   "id": "engaged-design",
   "metadata": {},
   "outputs": [],
   "source": [
    "df.groupby(['topic_num'])['title'].apply(lambda grp: list(grp.value_counts().index)).to_dict()"
   ]
  },
  {
   "cell_type": "code",
   "execution_count": 48,
   "id": "boring-authorization",
   "metadata": {},
   "outputs": [],
   "source": [
    "# map the topic numbers to words/topic descriptors\n",
    "# nterpret topics based off the coefficent values of the words per topic"
   ]
  }
 ],
 "metadata": {
  "kernelspec": {
   "display_name": "Python [conda env:metis] *",
   "language": "python",
   "name": "conda-env-metis-py"
  },
  "language_info": {
   "codemirror_mode": {
    "name": "ipython",
    "version": 3
   },
   "file_extension": ".py",
   "mimetype": "text/x-python",
   "name": "python",
   "nbconvert_exporter": "python",
   "pygments_lexer": "ipython3",
   "version": "3.8.8"
  }
 },
 "nbformat": 4,
 "nbformat_minor": 5
}
