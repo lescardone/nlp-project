{
 "cells": [
  {
   "cell_type": "code",
   "execution_count": 641,
   "id": "brown-quantum",
   "metadata": {},
   "outputs": [
    {
     "name": "stderr",
     "output_type": "stream",
     "text": [
      "[nltk_data] Downloading package wordnet to\n",
      "[nltk_data]     /Users/lescardone/nltk_data...\n",
      "[nltk_data]   Package wordnet is already up-to-date!\n",
      "[nltk_data] Downloading package averaged_perceptron_tagger to\n",
      "[nltk_data]     /Users/lescardone/nltk_data...\n",
      "[nltk_data]   Package averaged_perceptron_tagger is already up-to-\n",
      "[nltk_data]       date!\n",
      "[nltk_data] Downloading package punkt to\n",
      "[nltk_data]     /Users/lescardone/nltk_data...\n",
      "[nltk_data]   Package punkt is already up-to-date!\n"
     ]
    },
    {
     "data": {
      "text/plain": [
       "True"
      ]
     },
     "execution_count": 641,
     "metadata": {},
     "output_type": "execute_result"
    }
   ],
   "source": [
    "import pandas as pd\n",
    "\n",
    "import pickle\n",
    "\n",
    "from sklearn.feature_extraction.text import TfidfVectorizer\n",
    "from sklearn.feature_extraction.text import CountVectorizer\n",
    "\n",
    "import nltk\n",
    "from nltk import word_tokenize          \n",
    "from nltk.stem import WordNetLemmatizer\n",
    "from nltk.corpus import stopwords\n",
    "\n",
    "import textstat\n",
    "\n",
    "nltk.download('wordnet')\n",
    "nltk.download('averaged_perceptron_tagger')\n",
    "nltk.download('punkt')"
   ]
  },
  {
   "cell_type": "code",
   "execution_count": 642,
   "id": "bizarre-rehabilitation",
   "metadata": {},
   "outputs": [],
   "source": [
    "df = pd.read_csv('files/article_items.csv')"
   ]
  },
  {
   "cell_type": "code",
   "execution_count": 643,
   "id": "casual-injury",
   "metadata": {},
   "outputs": [],
   "source": [
    "df.drop(columns=['Unnamed: 0','idx'],axis=1,inplace=True)"
   ]
  },
  {
   "cell_type": "code",
   "execution_count": 644,
   "id": "mediterranean-encoding",
   "metadata": {},
   "outputs": [
    {
     "name": "stdout",
     "output_type": "stream",
     "text": [
      "<class 'pandas.core.frame.DataFrame'>\n",
      "RangeIndex: 1344 entries, 0 to 1343\n",
      "Data columns (total 5 columns):\n",
      " #   Column        Non-Null Count  Dtype \n",
      "---  ------        --------------  ----- \n",
      " 0   date          1344 non-null   object\n",
      " 1   category      1338 non-null   object\n",
      " 2   authors       1344 non-null   object\n",
      " 3   title         1344 non-null   object\n",
      " 4   article_text  1344 non-null   object\n",
      "dtypes: object(5)\n",
      "memory usage: 52.6+ KB\n"
     ]
    }
   ],
   "source": [
    "df.info()"
   ]
  },
  {
   "cell_type": "markdown",
   "id": "characteristic-contamination",
   "metadata": {},
   "source": [
    "### Consolidate Category Labels"
   ]
  },
  {
   "cell_type": "code",
   "execution_count": 645,
   "id": "twelve-times",
   "metadata": {},
   "outputs": [
    {
     "data": {
      "text/plain": [
       "132"
      ]
     },
     "execution_count": 645,
     "metadata": {},
     "output_type": "execute_result"
    }
   ],
   "source": [
    "df['category'].nunique()"
   ]
  },
  {
   "cell_type": "code",
   "execution_count": 646,
   "id": "advised-blocking",
   "metadata": {
    "tags": []
   },
   "outputs": [],
   "source": [
    "df['category'] = df['category'].apply(lambda x: str(x).strip())"
   ]
  },
  {
   "cell_type": "code",
   "execution_count": 647,
   "id": "competitive-annual",
   "metadata": {
    "tags": []
   },
   "outputs": [
    {
     "data": {
      "text/plain": [
       "106"
      ]
     },
     "execution_count": 647,
     "metadata": {},
     "output_type": "execute_result"
    }
   ],
   "source": [
    "df['category'].nunique()"
   ]
  },
  {
   "cell_type": "code",
   "execution_count": 648,
   "id": "coupled-consistency",
   "metadata": {},
   "outputs": [],
   "source": [
    "d = dict.fromkeys(['Books','Book Reviews','Author Interviews'],'Books')\n",
    "d.update(dict.fromkeys(['Coronavirus By The Numbers','Coronavirus Guide',\n",
    "             'Coronavirus Live Updates','Coronavirus Updates',\n",
    "             'Coronavirus, Illustrated','The Coronavirus Crisis'],'Covid'))\n",
    "d.update(dict.fromkeys(['Global Health','Health Care','Health Inc.','Shots - Health News',\n",
    "                       'Your Health'],'Health'))\n",
    "d.update(dict.fromkeys(['Economics','Economy','Planet Money','Your Money'],'Econ'))\n",
    "d.update(dict.fromkeys(['Environment And Energy Collaborative'],'Environment'))\n",
    "d.update(dict.fromkeys(['Biden Transition Updates','Congress Weighs Action Against Trump: Live Updates',\n",
    "                  \"Congress' Electoral College Tally: Live Updates\",\n",
    "                  'Elections','President Biden Takes Office'],'Government'))\n",
    "d.update(dict.fromkeys([\"Live Updates: Trial Over George Floyd's Killing\",\n",
    "           'Trump Impeachment Trial: Live Updates'],'Law'))\n",
    "d.update(dict.fromkeys(['50 Years Of NPR','Fall 2020 College Road Trip',\n",
    "             'How I Built This with Guy Raz','nan'],'Other'))\n",
    "d['Movie Interviews'] = 'Movies'\n",
    "d['Music News'] = 'Music'"
   ]
  },
  {
   "cell_type": "code",
   "execution_count": 649,
   "id": "instrumental-language",
   "metadata": {},
   "outputs": [],
   "source": [
    "df['category'] = df['category'].replace(d)"
   ]
  },
  {
   "cell_type": "code",
   "execution_count": 650,
   "id": "coordinate-suffering",
   "metadata": {},
   "outputs": [
    {
     "data": {
      "text/plain": [
       "79"
      ]
     },
     "execution_count": 650,
     "metadata": {},
     "output_type": "execute_result"
    }
   ],
   "source": [
    "df['category'].nunique()"
   ]
  },
  {
   "cell_type": "markdown",
   "id": "double-cradle",
   "metadata": {},
   "source": [
    "### Clean Article Text"
   ]
  },
  {
   "cell_type": "markdown",
   "id": "annoying-vertical",
   "metadata": {},
   "source": [
    "#### Get rid of some artifacts from webscrape"
   ]
  },
  {
   "cell_type": "code",
   "execution_count": 651,
   "id": "delayed-acceptance",
   "metadata": {},
   "outputs": [],
   "source": [
    "df['article_text'] = df['article_text'].apply(lambda x: x.replace('Enlarge this image ',''))\n",
    "df['article_text'] = df['article_text'].apply(lambda x: x.replace(' via Getty Images hide caption toggle caption',''))\n",
    "df['article_text'] = df['article_text'].apply(lambda x: x.replace('via Getty Images ',''))\n",
    "df['article_text'] = df['article_text'].apply(lambda x: x.replace('hide caption toggle caption ',''))"
   ]
  },
  {
   "cell_type": "code",
   "execution_count": 652,
   "id": "caring-rochester",
   "metadata": {},
   "outputs": [
    {
     "data": {
      "text/plain": [
       "0       An Army photo shows a soldier wearing a new ap...\n",
       "1       A male panther leaps over a creek at Florida P...\n",
       "2       Members of the Workers Assembly Against Racism...\n",
       "3       Adri Quiñones, center, leads the prayer during...\n",
       "4       Colorado Snow Survey supervisor Brian Domonkos...\n",
       "                              ...                        \n",
       "1339    President-elect Joe Biden has nominated labor ...\n",
       "1340    Moderna protocol files for COVID-19 vaccinatio...\n",
       "1341    Tennessee Gov. Bill Lee (right) tours a tempor...\n",
       "1342    An error at the IRS caused thousands of non-Am...\n",
       "1343    After a highly fraught but largely interferenc...\n",
       "Name: article_text, Length: 1344, dtype: object"
      ]
     },
     "execution_count": 652,
     "metadata": {},
     "output_type": "execute_result"
    }
   ],
   "source": [
    "df['article_text']"
   ]
  },
  {
   "cell_type": "markdown",
   "id": "coupled-orlando",
   "metadata": {},
   "source": [
    "#### Remove repeat sentences/get sentence count per article"
   ]
  },
  {
   "cell_type": "code",
   "execution_count": 653,
   "id": "eligible-translation",
   "metadata": {},
   "outputs": [],
   "source": [
    "import nltk.data"
   ]
  },
  {
   "cell_type": "code",
   "execution_count": 654,
   "id": "caring-campaign",
   "metadata": {},
   "outputs": [],
   "source": [
    "sent_detector = nltk.data.load('tokenizers/punkt/english.pickle')\n",
    "df['sentence_toks'] = df['article_text'].apply(lambda x: sent_detector.tokenize(x.strip()))"
   ]
  },
  {
   "cell_type": "code",
   "execution_count": 655,
   "id": "hybrid-square",
   "metadata": {},
   "outputs": [],
   "source": [
    "def remove_dup_sentences(sentence_toks):\n",
    "    duplicates = []\n",
    "    cleaned = []\n",
    "    for s in sentence_toks:\n",
    "        if s in cleaned:\n",
    "            if s in duplicates:\n",
    "                continue\n",
    "            else:\n",
    "                duplicates.append(s)\n",
    "        else:\n",
    "            cleaned.append(s)\n",
    "    return cleaned"
   ]
  },
  {
   "cell_type": "code",
   "execution_count": 656,
   "id": "coated-obligation",
   "metadata": {},
   "outputs": [],
   "source": [
    "df['sentence_toks'] = df['sentence_toks'].apply(lambda x: remove_dup_sentences(x))"
   ]
  },
  {
   "cell_type": "code",
   "execution_count": 657,
   "id": "located-insulin",
   "metadata": {},
   "outputs": [
    {
     "data": {
      "text/plain": [
       "0       [An Army photo shows a soldier wearing a new a...\n",
       "1       [A male panther leaps over a creek at Florida ...\n",
       "2       [Members of the Workers Assembly Against Racis...\n",
       "3       [Adri Quiñones, center, leads the prayer durin...\n",
       "4       [Colorado Snow Survey supervisor Brian Domonko...\n",
       "                              ...                        \n",
       "1339    [President-elect Joe Biden has nominated labor...\n",
       "1340    [Moderna protocol files for COVID-19 vaccinati...\n",
       "1341    [Tennessee Gov., Bill Lee (right) tours a temp...\n",
       "1342    [An error at the IRS caused thousands of non-A...\n",
       "1343    [After a highly fraught but largely interferen...\n",
       "Name: sentence_toks, Length: 1344, dtype: object"
      ]
     },
     "execution_count": 657,
     "metadata": {},
     "output_type": "execute_result"
    }
   ],
   "source": [
    "df['sentence_toks']"
   ]
  },
  {
   "cell_type": "code",
   "execution_count": 658,
   "id": "postal-passport",
   "metadata": {},
   "outputs": [],
   "source": [
    "df['num_sentences'] = df['sentence_toks'].apply(lambda x: len(x))"
   ]
  },
  {
   "cell_type": "code",
   "execution_count": 659,
   "id": "similar-strike",
   "metadata": {},
   "outputs": [],
   "source": [
    "df['article_text_set'] = df['sentence_toks'].apply(lambda x: ' '.join(x))"
   ]
  },
  {
   "cell_type": "code",
   "execution_count": 660,
   "id": "indonesian-starter",
   "metadata": {},
   "outputs": [],
   "source": [
    "df['unique_words'] = df['article_text_set'].map(lambda x: len(list(set(nltk.word_tokenize(x)))))"
   ]
  },
  {
   "cell_type": "code",
   "execution_count": 661,
   "id": "statewide-research",
   "metadata": {},
   "outputs": [],
   "source": [
    "df['word_count'] = df['article_text_set'].map(lambda x: len(list(nltk.word_tokenize(x))))"
   ]
  },
  {
   "cell_type": "code",
   "execution_count": 662,
   "id": "solid-coupon",
   "metadata": {},
   "outputs": [
    {
     "data": {
      "text/plain": [
       "1431.4650297619048"
      ]
     },
     "execution_count": 662,
     "metadata": {},
     "output_type": "execute_result"
    }
   ],
   "source": [
    "df['word_count'].mean()"
   ]
  },
  {
   "cell_type": "code",
   "execution_count": 663,
   "id": "underlying-diana",
   "metadata": {},
   "outputs": [
    {
     "data": {
      "text/plain": [
       "59.023065476190474"
      ]
     },
     "execution_count": 663,
     "metadata": {},
     "output_type": "execute_result"
    }
   ],
   "source": [
    "df['num_sentences'].mean()"
   ]
  },
  {
   "cell_type": "markdown",
   "id": "chemical-prairie",
   "metadata": {},
   "source": [
    "#### Look at word frequency over entire corpus to modify stop_words list"
   ]
  },
  {
   "cell_type": "code",
   "execution_count": 664,
   "id": "mineral-border",
   "metadata": {},
   "outputs": [],
   "source": [
    "from sklearn.feature_extraction.text import CountVectorizer"
   ]
  },
  {
   "cell_type": "code",
   "execution_count": 665,
   "id": "unique-visitor",
   "metadata": {},
   "outputs": [],
   "source": [
    "stop_words = stopwords.words('english')\n",
    "stop_words.extend(['says','say','npr','just','don','19','going','years','day','images',\n",
    "                   'ap','getty','know','000','did','week','according','ve','told','need',\n",
    "                  'really', 'wednesday','seen','would','new','like','get','many','time',\n",
    "                  'could','first','last','even','still','back','may','see','well','go',\n",
    "                  'go','want','got','jan','already','likely','10','put','two','make','saw',\n",
    "                  'co','made','lot','use','100','20','came','six','12','embed','embedded','es',\n",
    "                  '529'])"
   ]
  },
  {
   "cell_type": "code",
   "execution_count": 666,
   "id": "critical-clearing",
   "metadata": {
    "scrolled": true,
    "tags": []
   },
   "outputs": [],
   "source": [
    "cv = CountVectorizer(max_df = .8, min_df = 3, stop_words = stop_words)"
   ]
  },
  {
   "cell_type": "code",
   "execution_count": 667,
   "id": "headed-major",
   "metadata": {},
   "outputs": [],
   "source": [
    "cv_dtm = cv.fit_transform(df['article_text_set'])"
   ]
  },
  {
   "cell_type": "code",
   "execution_count": 668,
   "id": "piano-jewel",
   "metadata": {
    "tags": []
   },
   "outputs": [],
   "source": [
    "word_sums = cv_dtm.sum(axis=0)\n",
    "words_freq = [(word, word_sums[0, idx]) for word, idx in cv.vocabulary_.items()]\n",
    "words_freq = sorted(words_freq, key = lambda x: x[1], reverse=False)"
   ]
  },
  {
   "cell_type": "markdown",
   "id": "senior-shadow",
   "metadata": {},
   "source": [
    "#### TF-IDF - Did not end up using"
   ]
  },
  {
   "cell_type": "code",
   "execution_count": 367,
   "id": "inner-chick",
   "metadata": {},
   "outputs": [],
   "source": [
    "# from sklearn.feature_extraction.text import TfidfVectorizer"
   ]
  },
  {
   "cell_type": "code",
   "execution_count": 386,
   "id": "imperial-modern",
   "metadata": {},
   "outputs": [],
   "source": [
    "# tfidf = TfidfVectorizer(max_df = .80, min_df = 10, stop_words = stop_words)"
   ]
  },
  {
   "cell_type": "code",
   "execution_count": 387,
   "id": "hydraulic-nursing",
   "metadata": {},
   "outputs": [],
   "source": [
    "# tfidf_dtm = tfidf.fit_transform(df['article_text_set'])"
   ]
  },
  {
   "cell_type": "code",
   "execution_count": 402,
   "id": "limiting-stereo",
   "metadata": {
    "tags": []
   },
   "outputs": [],
   "source": [
    "# LDA_tfidf = LatentDirichletAllocation(n_components=6,random_state=18)\n",
    "# LDA_tfidf.fit(tfidf_dtm)"
   ]
  },
  {
   "cell_type": "code",
   "execution_count": 400,
   "id": "starting-device",
   "metadata": {
    "tags": []
   },
   "outputs": [],
   "source": [
    "# Grab top 15 words per topic\n",
    "# for i, topic in enumerate(LDA_tfidf.components_,1):\n",
    "#    print(f'THE TOP 15 WORDS FOR TOPIC {i}:')\n",
    "#    print([cv.get_feature_names()[index] for index in topic.argsort()[-15:]])\n",
    "#    print('\\n')"
   ]
  },
  {
   "cell_type": "markdown",
   "id": "falling-discrimination",
   "metadata": {},
   "source": [
    "# LDA WORKFLOW"
   ]
  },
  {
   "cell_type": "markdown",
   "id": "later-replacement",
   "metadata": {},
   "source": [
    "### LDA to learn topic representation"
   ]
  },
  {
   "cell_type": "code",
   "execution_count": 669,
   "id": "african-scale",
   "metadata": {},
   "outputs": [],
   "source": [
    "from sklearn.decomposition import LatentDirichletAllocation"
   ]
  },
  {
   "cell_type": "code",
   "execution_count": 670,
   "id": "serious-lawsuit",
   "metadata": {},
   "outputs": [
    {
     "data": {
      "text/plain": [
       "LatentDirichletAllocation(n_components=18, random_state=18)"
      ]
     },
     "execution_count": 670,
     "metadata": {},
     "output_type": "execute_result"
    }
   ],
   "source": [
    "LDA_cv = LatentDirichletAllocation(n_components=18,random_state=18)\n",
    "LDA_cv.fit(cv_dtm)"
   ]
  },
  {
   "cell_type": "code",
   "execution_count": 392,
   "id": "expanded-vulnerability",
   "metadata": {
    "collapsed": true,
    "jupyter": {
     "outputs_hidden": true,
     "source_hidden": true
    },
    "tags": []
   },
   "outputs": [
    {
     "data": {
      "text/plain": [
       "16872"
      ]
     },
     "execution_count": 392,
     "metadata": {},
     "output_type": "execute_result"
    }
   ],
   "source": [
    "len(cv.get_feature_names())\n",
    "# holding an instance of every single word"
   ]
  },
  {
   "cell_type": "markdown",
   "id": "italian-denial",
   "metadata": {},
   "source": [
    "### Interpret topics and assign to docs"
   ]
  },
  {
   "cell_type": "markdown",
   "id": "narrow-vietnamese",
   "metadata": {},
   "source": [
    "#### COUNT VECTORIZE"
   ]
  },
  {
   "cell_type": "code",
   "execution_count": 401,
   "id": "bottom-glenn",
   "metadata": {
    "tags": []
   },
   "outputs": [],
   "source": [
    "# topic_one = LDA_cv.components_[0]\n",
    "# topic_one.argsort()[-10:]\n",
    "# sorts the values, and returns the index values of the sorted list\n",
    "# aka show location of high probability \n",
    "# use index to get the word corresponding with that probability\n",
    "# top_twenty_words = topic_one.argsort()[-20:]\n",
    "# for index in top_twenty_words:\n",
    "#    print(cv.get_feature_names()[index])"
   ]
  },
  {
   "cell_type": "code",
   "execution_count": 671,
   "id": "frozen-column",
   "metadata": {
    "tags": []
   },
   "outputs": [
    {
     "name": "stdout",
     "output_type": "stream",
     "text": [
      "THE TOP 15 WORDS FOR TOPIC 0:\n",
      "['free', 'voa', 'nelson', 'media', 'voice', 'medical', 'team', 'usagm', 'athletes', 'court', 'ncaa', 'women', 'trial', 'radio', 'former', 'sports', 'agency', 'chauvin', 'pack', 'floyd']\n",
      "\n",
      "\n",
      "THE TOP 15 WORDS FOR TOPIC 1:\n",
      "['data', 'year', 'employees', 'staff', 'home', 'work', 'states', 'public', 'guidance', 'covid', 'program', 'money', 'care', 'federal', 'coronavirus', 'state', 'cdc', 'pandemic', 'workers', 'health']\n",
      "\n",
      "\n",
      "THE TOP 15 WORDS FOR TOPIC 2:\n",
      "['home', 'work', 'social', 'think', 'learning', 'teachers', 'parents', 'high', 'student', 'education', 'person', 'children', 'kids', 'university', 'college', 'year', 'schools', 'pandemic', 'students', 'school']\n",
      "\n",
      "\n",
      "THE TOP 15 WORDS FOR TOPIC 3:\n",
      "['war', 'racist', 'crimes', 'church', 'germany', 'white', 'americans', 'andrew', 'austin', 'year', 'community', 'family', 'black', 'right', 'group', 'violence', 'atlanta', 'hate', 'american', 'asian']\n",
      "\n",
      "\n",
      "THE TOP 15 WORDS FOR TOPIC 4:\n",
      "['users', 'information', 'platform', 'misinformation', 'app', 'online', 'trump', 'conspiracy', 'platforms', 'disinformation', 'apple', 'companies', 'news', 'google', 'tech', 'twitter', 'company', 'social', 'media', 'facebook']\n",
      "\n",
      "\n",
      "THE TOP 15 WORDS FOR TOPIC 5:\n",
      "['biden', 'office', 'members', 'democrats', 'congress', 'party', 'georgia', 'voting', 'republicans', 'former', 'impeachment', 'vote', 'state', 'republican', 'senate', 'house', 'election', 'president', 'capitol', 'trump']\n",
      "\n",
      "\n",
      "THE TOP 15 WORDS FOR TOPIC 6:\n",
      "['doctors', 'deaths', 'patient', 'treatment', 'help', 'news', 'year', 'cases', 'dr', 'disease', 'hospitals', 'virus', 'coronavirus', 'pandemic', 'medical', 'care', 'hospital', 'patients', 'covid', 'health']\n",
      "\n",
      "\n",
      "THE TOP 15 WORDS FOR TOPIC 7:\n",
      "['million', 'states', 'countries', 'news', 'data', 'care', 'state', 'getting', 'pfizer', 'pandemic', 'public', 'shots', 'doses', 'coronavirus', 'vaccinated', 'vaccination', 'vaccines', 'health', 'covid', 'vaccine']\n",
      "\n",
      "\n",
      "THE TOP 15 WORDS FOR TOPIC 8:\n",
      "['water', 'al', 'iran', 'minister', 'palestinians', 'afghanistan', 'wuhan', 'country', 'palestinian', 'war', 'military', 'city', 'government', 'year', 'chinese', 'gaza', 'israeli', 'world', 'israel', 'china']\n",
      "\n",
      "\n",
      "THE TOP 15 WORDS FOR TOPIC 9:\n",
      "['american', 'policy', 'law', 'department', 'immigration', 'former', 'office', 'secretary', 'state', 'government', 'obama', 'united', 'security', 'national', 'border', 'states', 'trump', 'administration', 'president', 'biden']\n",
      "\n",
      "\n",
      "THE TOP 15 WORDS FOR TOPIC 10:\n",
      "['criminal', 'office', 'man', 'court', 'case', 'enforcement', 'protests', 'video', 'attorney', 'black', 'year', 'death', 'force', 'justice', 'city', 'law', 'department', 'officer', 'officers', 'police']\n",
      "\n",
      "\n",
      "THE TOP 15 WORDS FOR TOPIC 11:\n",
      "['life', 'help', 'pharma', 'crisis', 'mother', 'state', 'died', 'department', 'year', 'father', 'little', 'joe', 'johnson', 'store', 'purdue', 'city', 'st', 'company', 'opioid', 'family']\n",
      "\n",
      "\n",
      "THE TOP 15 WORDS FOR TOPIC 12:\n",
      "['americans', 'economic', 'administration', 'economy', 'federal', 'year', 'support', 'pandemic', 'white', 'legislation', 'republicans', 'relief', 'congress', 'senate', 'democrats', 'plan', 'house', 'president', 'bill', 'biden']\n",
      "\n",
      "\n",
      "THE TOP 15 WORDS FOR TOPIC 13:\n",
      "['village', 'used', 'home', 'world', 'institute', 'camp', 'religious', 'andrés', 'yazidi', 'year', 'cheng', 'perform', 'women', 'elephant', 'emily', 'church', 'amy', 'family', 'isis', 'music']\n",
      "\n",
      "\n",
      "THE TOP 15 WORDS FOR TOPIC 14:\n",
      "['way', 'california', 'part', 'heat', 'emissions', 'environmental', 'state', 'oil', 'water', 'americans', 'city', 'think', 'home', 'housing', 'energy', 'year', 'change', 'gas', 'black', 'climate']\n",
      "\n",
      "\n",
      "THE TOP 15 WORDS FOR TOPIC 15:\n",
      "['rights', 'president', 'year', 'officials', 'data', 'law', '2020', 'water', 'case', 'administration', 'national', 'federal', 'trump', 'supreme', 'power', 'bureau', 'texas', 'state', 'census', 'court']\n",
      "\n",
      "\n",
      "THE TOP 15 WORDS FOR TOPIC 16:\n",
      "['take', 'government', 'something', 'business', 'financial', 'attack', 'security', 'world', 'money', 'care', 'work', 'much', 'life', 'service', 'year', 'companies', 'things', 'way', 'company', 'think']\n",
      "\n",
      "\n",
      "THE TOP 15 WORDS FOR TOPIC 17:\n",
      "['women', 'wearing', 'farmers', 'indian', 'oil', 'winner', 'virus', 'countries', 'country', 'year', 'saudi', 'food', 'world', 'coronavirus', 'best', 'pandemic', 'government', 'masks', 'india', 'mask']\n",
      "\n",
      "\n"
     ]
    }
   ],
   "source": [
    "# Grab top 20 words per topic\n",
    "for i, topic in enumerate(LDA_cv.components_,0):\n",
    "    print(f'THE TOP 15 WORDS FOR TOPIC {i}:')\n",
    "    print([cv.get_feature_names()[index] for index in topic.argsort()[-20:]])\n",
    "    print('\\n')"
   ]
  },
  {
   "cell_type": "code",
   "execution_count": 672,
   "id": "owned-airplane",
   "metadata": {},
   "outputs": [],
   "source": [
    "# Assign to docs\n",
    "topic_results = LDA_cv.transform(cv_dtm).round(2)\n",
    "df['topic_num'] = topic_results.argmax(axis=1)"
   ]
  },
  {
   "cell_type": "code",
   "execution_count": 673,
   "id": "divided-ecology",
   "metadata": {},
   "outputs": [],
   "source": [
    "topic_prob_df = pd.DataFrame(topic_results)\n",
    "topic_prob = topic_prob_df.max(axis=1)\n",
    "df['topic_probability'] = topic_prob"
   ]
  },
  {
   "cell_type": "code",
   "execution_count": 674,
   "id": "victorian-frank",
   "metadata": {
    "tags": []
   },
   "outputs": [
    {
     "data": {
      "text/plain": [
       "5     32\n",
       "7     21\n",
       "2     11\n",
       "12    11\n",
       "15    10\n",
       "10    10\n",
       "16     6\n",
       "9      4\n",
       "11     4\n",
       "3      3\n",
       "6      3\n",
       "8      3\n",
       "1      2\n",
       "13     2\n",
       "14     2\n",
       "0      1\n",
       "4      1\n",
       "17     1\n",
       "Name: topic_num, dtype: int64"
      ]
     },
     "execution_count": 674,
     "metadata": {},
     "output_type": "execute_result"
    }
   ],
   "source": [
    "df[['title','category','topic_num','topic_probability']]\n",
    "df[df['topic_probability'] > .95]['topic_num'].value_counts()"
   ]
  },
  {
   "cell_type": "code",
   "execution_count": null,
   "id": "informative-compression",
   "metadata": {
    "tags": []
   },
   "outputs": [],
   "source": [
    "df['topic_num'].value_counts().sort_values()"
   ]
  },
  {
   "cell_type": "code",
   "execution_count": 676,
   "id": "greenhouse-malaysia",
   "metadata": {},
   "outputs": [],
   "source": [
    "# map the topic numbers to words\n",
    "topic_map = {0: 'Zero', 1: 'Paycheck Protection Program', 2: 'Learning & Education During The COVID Pandemic',\n",
    "            3: 'Racism & Hate Crimes', 4: 'Media & Misinformation', 5: 'Political Decision Making',\n",
    "            6: 'Science & Medicine', 7: 'COVID Vaccines', 8: 'Global News & International Relations', 9: 'Immigration & Foreign Policy',\n",
    "            10: 'Investigations & Trial Coverage', 11: 'Drugs/Opiods', 12: 'COVID Relief Bills',\n",
    "            13: 'Music & Culture', 14: 'Earth/Natural Resources', 15: 'Texas Power Outtage & Census Case',\n",
    "            16: 'Cultural Phenomena', 17: 'Seventeen'}"
   ]
  },
  {
   "cell_type": "code",
   "execution_count": 677,
   "id": "judicial-medicine",
   "metadata": {},
   "outputs": [],
   "source": [
    "df['topic_names'] = df['topic_num'].replace(topic_map)"
   ]
  },
  {
   "cell_type": "code",
   "execution_count": 678,
   "id": "pressing-light",
   "metadata": {},
   "outputs": [
    {
     "data": {
      "text/plain": [
       "Political Decision Making                         171\n",
       "COVID Vaccines                                    169\n",
       "COVID Relief Bills                                120\n",
       "Science & Medicine                                112\n",
       "Investigations & Trial Coverage                   103\n",
       "Immigration & Foreign Policy                       90\n",
       "Cultural Phenomena                                 73\n",
       "Global News & International Relations              71\n",
       "Learning & Education During The COVID Pandemic     69\n",
       "Media & Misinformation                             55\n",
       "Texas Power Outtage & Census Case                  52\n",
       "Seventeen                                          48\n",
       "Paycheck Protection Program                        44\n",
       "Earth/Natural Resources                            43\n",
       "Racism & Hate Crimes                               39\n",
       "Drugs/Opiods                                       37\n",
       "Zero                                               36\n",
       "Music & Culture                                    12\n",
       "Name: topic_names, dtype: int64"
      ]
     },
     "execution_count": 678,
     "metadata": {},
     "output_type": "execute_result"
    }
   ],
   "source": [
    "df['topic_names'].value_counts()"
   ]
  },
  {
   "cell_type": "code",
   "execution_count": 679,
   "id": "quantitative-issue",
   "metadata": {
    "tags": []
   },
   "outputs": [],
   "source": [
    "df_most_representative = df[(df['topic_probability'] > .80)].copy()"
   ]
  },
  {
   "cell_type": "code",
   "execution_count": 635,
   "id": "round-universe",
   "metadata": {
    "tags": []
   },
   "outputs": [],
   "source": [
    "## Look at most article titles that are most representative of a given topic\n",
    "# df_most_representative.groupby(['topic_num'])['title'].apply(lambda grp: list(grp.value_counts().index)).to_dict()"
   ]
  },
  {
   "cell_type": "code",
   "execution_count": 680,
   "id": "architectural-instrumentation",
   "metadata": {},
   "outputs": [],
   "source": [
    "with open('lda_df', 'wb') as f:\n",
    "    pickle.dump(df, f)"
   ]
  },
  {
   "cell_type": "markdown",
   "id": "helpful-vertex",
   "metadata": {},
   "source": [
    "# Readability"
   ]
  },
  {
   "cell_type": "code",
   "execution_count": 681,
   "id": "neither-sunglasses",
   "metadata": {},
   "outputs": [],
   "source": [
    "import textstat"
   ]
  },
  {
   "cell_type": "code",
   "execution_count": 682,
   "id": "loving-aaron",
   "metadata": {
    "tags": []
   },
   "outputs": [],
   "source": [
    "df['flesch_reading'] = df['article_text'].apply(lambda x: textstat.flesch_reading_ease(x))"
   ]
  },
  {
   "cell_type": "code",
   "execution_count": 683,
   "id": "romantic-magnet",
   "metadata": {},
   "outputs": [],
   "source": [
    "df['ari_grade_level'] = df['article_text'].apply(lambda x: textstat.automated_readability_index(x))"
   ]
  },
  {
   "cell_type": "code",
   "execution_count": 684,
   "id": "seeing-copying",
   "metadata": {
    "tags": []
   },
   "outputs": [
    {
     "data": {
      "text/html": [
       "<div>\n",
       "<style scoped>\n",
       "    .dataframe tbody tr th:only-of-type {\n",
       "        vertical-align: middle;\n",
       "    }\n",
       "\n",
       "    .dataframe tbody tr th {\n",
       "        vertical-align: top;\n",
       "    }\n",
       "\n",
       "    .dataframe thead th {\n",
       "        text-align: right;\n",
       "    }\n",
       "</style>\n",
       "<table border=\"1\" class=\"dataframe\">\n",
       "  <thead>\n",
       "    <tr style=\"text-align: right;\">\n",
       "      <th></th>\n",
       "      <th>title</th>\n",
       "      <th>article_text</th>\n",
       "      <th>topic_names</th>\n",
       "      <th>flesch_reading</th>\n",
       "      <th>ari_grade_level</th>\n",
       "    </tr>\n",
       "  </thead>\n",
       "  <tbody>\n",
       "    <tr>\n",
       "      <th>0</th>\n",
       "      <td>The Army Is Expanding Allowed Hairstyles For W...</td>\n",
       "      <td>An Army photo shows a soldier wearing a new ap...</td>\n",
       "      <td>Cultural Phenomena</td>\n",
       "      <td>68.30</td>\n",
       "      <td>11.4</td>\n",
       "    </tr>\n",
       "    <tr>\n",
       "      <th>1</th>\n",
       "      <td>Once Nearly Extinct, The Florida Panther Is Ma...</td>\n",
       "      <td>A male panther leaps over a creek at Florida P...</td>\n",
       "      <td>Earth/Natural Resources</td>\n",
       "      <td>66.88</td>\n",
       "      <td>12.0</td>\n",
       "    </tr>\n",
       "    <tr>\n",
       "      <th>2</th>\n",
       "      <td>What The Rise Of Amazon Has To Do With The Ris...</td>\n",
       "      <td>Members of the Workers Assembly Against Racism...</td>\n",
       "      <td>Drugs/Opiods</td>\n",
       "      <td>63.63</td>\n",
       "      <td>12.9</td>\n",
       "    </tr>\n",
       "    <tr>\n",
       "      <th>3</th>\n",
       "      <td>The Youth Of Cuba's Tiny Jewish Minority</td>\n",
       "      <td>Adri Quiñones, center, leads the prayer during...</td>\n",
       "      <td>Texas Power Outtage &amp; Census Case</td>\n",
       "      <td>60.04</td>\n",
       "      <td>12.5</td>\n",
       "    </tr>\n",
       "    <tr>\n",
       "      <th>4</th>\n",
       "      <td>Melting Snow Usually Means Water For The West....</td>\n",
       "      <td>Colorado Snow Survey supervisor Brian Domonkos...</td>\n",
       "      <td>Earth/Natural Resources</td>\n",
       "      <td>52.12</td>\n",
       "      <td>16.1</td>\n",
       "    </tr>\n",
       "    <tr>\n",
       "      <th>...</th>\n",
       "      <td>...</td>\n",
       "      <td>...</td>\n",
       "      <td>...</td>\n",
       "      <td>...</td>\n",
       "      <td>...</td>\n",
       "    </tr>\n",
       "    <tr>\n",
       "      <th>1339</th>\n",
       "      <td>President-Elect Biden Names Core Members Of Hi...</td>\n",
       "      <td>President-elect Joe Biden has nominated labor ...</td>\n",
       "      <td>COVID Relief Bills</td>\n",
       "      <td>49.75</td>\n",
       "      <td>14.1</td>\n",
       "    </tr>\n",
       "    <tr>\n",
       "      <th>1340</th>\n",
       "      <td>Moderna's COVID-19 Vaccine Candidate Gets More...</td>\n",
       "      <td>Moderna protocol files for COVID-19 vaccinatio...</td>\n",
       "      <td>COVID Vaccines</td>\n",
       "      <td>47.32</td>\n",
       "      <td>14.3</td>\n",
       "    </tr>\n",
       "    <tr>\n",
       "      <th>1341</th>\n",
       "      <td>As Hospitals Fill With COVID-19 Patients, Medi...</td>\n",
       "      <td>Tennessee Gov. Bill Lee (right) tours a tempor...</td>\n",
       "      <td>Science &amp; Medicine</td>\n",
       "      <td>57.40</td>\n",
       "      <td>14.2</td>\n",
       "    </tr>\n",
       "    <tr>\n",
       "      <th>1342</th>\n",
       "      <td>IRS Says Its Own Error Sent $1,200 Stimulus Ch...</td>\n",
       "      <td>An error at the IRS caused thousands of non-Am...</td>\n",
       "      <td>Cultural Phenomena</td>\n",
       "      <td>52.43</td>\n",
       "      <td>15.6</td>\n",
       "    </tr>\n",
       "    <tr>\n",
       "      <th>1343</th>\n",
       "      <td>With 2020 Called A Success, Big Questions Lie ...</td>\n",
       "      <td>After a highly fraught but largely interferenc...</td>\n",
       "      <td>Political Decision Making</td>\n",
       "      <td>47.22</td>\n",
       "      <td>16.0</td>\n",
       "    </tr>\n",
       "  </tbody>\n",
       "</table>\n",
       "<p>1344 rows × 5 columns</p>\n",
       "</div>"
      ],
      "text/plain": [
       "                                                  title  \\\n",
       "0     The Army Is Expanding Allowed Hairstyles For W...   \n",
       "1     Once Nearly Extinct, The Florida Panther Is Ma...   \n",
       "2     What The Rise Of Amazon Has To Do With The Ris...   \n",
       "3              The Youth Of Cuba's Tiny Jewish Minority   \n",
       "4     Melting Snow Usually Means Water For The West....   \n",
       "...                                                 ...   \n",
       "1339  President-Elect Biden Names Core Members Of Hi...   \n",
       "1340  Moderna's COVID-19 Vaccine Candidate Gets More...   \n",
       "1341  As Hospitals Fill With COVID-19 Patients, Medi...   \n",
       "1342  IRS Says Its Own Error Sent $1,200 Stimulus Ch...   \n",
       "1343  With 2020 Called A Success, Big Questions Lie ...   \n",
       "\n",
       "                                           article_text  \\\n",
       "0     An Army photo shows a soldier wearing a new ap...   \n",
       "1     A male panther leaps over a creek at Florida P...   \n",
       "2     Members of the Workers Assembly Against Racism...   \n",
       "3     Adri Quiñones, center, leads the prayer during...   \n",
       "4     Colorado Snow Survey supervisor Brian Domonkos...   \n",
       "...                                                 ...   \n",
       "1339  President-elect Joe Biden has nominated labor ...   \n",
       "1340  Moderna protocol files for COVID-19 vaccinatio...   \n",
       "1341  Tennessee Gov. Bill Lee (right) tours a tempor...   \n",
       "1342  An error at the IRS caused thousands of non-Am...   \n",
       "1343  After a highly fraught but largely interferenc...   \n",
       "\n",
       "                            topic_names  flesch_reading  ari_grade_level  \n",
       "0                    Cultural Phenomena           68.30             11.4  \n",
       "1               Earth/Natural Resources           66.88             12.0  \n",
       "2                          Drugs/Opiods           63.63             12.9  \n",
       "3     Texas Power Outtage & Census Case           60.04             12.5  \n",
       "4               Earth/Natural Resources           52.12             16.1  \n",
       "...                                 ...             ...              ...  \n",
       "1339                 COVID Relief Bills           49.75             14.1  \n",
       "1340                     COVID Vaccines           47.32             14.3  \n",
       "1341                 Science & Medicine           57.40             14.2  \n",
       "1342                 Cultural Phenomena           52.43             15.6  \n",
       "1343          Political Decision Making           47.22             16.0  \n",
       "\n",
       "[1344 rows x 5 columns]"
      ]
     },
     "execution_count": 684,
     "metadata": {},
     "output_type": "execute_result"
    }
   ],
   "source": [
    "df[['title','article_text','topic_names','flesch_reading','ari_grade_level']]"
   ]
  },
  {
   "cell_type": "code",
   "execution_count": 685,
   "id": "internal-birth",
   "metadata": {},
   "outputs": [
    {
     "data": {
      "text/plain": [
       "count    1344.000000\n",
       "mean       52.655424\n",
       "std         9.568339\n",
       "min        -3.240000\n",
       "25%        46.385000\n",
       "50%        53.140000\n",
       "75%        58.520000\n",
       "max        85.180000\n",
       "Name: flesch_reading, dtype: float64"
      ]
     },
     "execution_count": 685,
     "metadata": {},
     "output_type": "execute_result"
    }
   ],
   "source": [
    "df['flesch_reading'].describe()"
   ]
  },
  {
   "cell_type": "markdown",
   "id": "pointed-brooklyn",
   "metadata": {},
   "source": [
    "#### Remove extreme articles"
   ]
  },
  {
   "cell_type": "code",
   "execution_count": 686,
   "id": "grateful-involvement",
   "metadata": {},
   "outputs": [
    {
     "data": {
      "text/html": [
       "<div>\n",
       "<style scoped>\n",
       "    .dataframe tbody tr th:only-of-type {\n",
       "        vertical-align: middle;\n",
       "    }\n",
       "\n",
       "    .dataframe tbody tr th {\n",
       "        vertical-align: top;\n",
       "    }\n",
       "\n",
       "    .dataframe thead th {\n",
       "        text-align: right;\n",
       "    }\n",
       "</style>\n",
       "<table border=\"1\" class=\"dataframe\">\n",
       "  <thead>\n",
       "    <tr style=\"text-align: right;\">\n",
       "      <th></th>\n",
       "      <th>date</th>\n",
       "      <th>category</th>\n",
       "      <th>authors</th>\n",
       "      <th>title</th>\n",
       "      <th>article_text</th>\n",
       "      <th>sentence_toks</th>\n",
       "      <th>num_sentences</th>\n",
       "      <th>article_text_set</th>\n",
       "      <th>unique_words</th>\n",
       "      <th>word_count</th>\n",
       "      <th>topic_num</th>\n",
       "      <th>topic_probability</th>\n",
       "      <th>topic_names</th>\n",
       "      <th>flesch_reading</th>\n",
       "      <th>ari_grade_level</th>\n",
       "    </tr>\n",
       "  </thead>\n",
       "  <tbody>\n",
       "    <tr>\n",
       "      <th>405</th>\n",
       "      <td>April 1, 2021</td>\n",
       "      <td>Politics</td>\n",
       "      <td>['Benjamin Swasey', 'claire oby']</td>\n",
       "      <td>By The Numbers: Biden's $2 Trillion Infrastruc...</td>\n",
       "      <td>President Biden's $2 trillion infrastructure p...</td>\n",
       "      <td>[President Biden's $2 trillion infrastructure ...</td>\n",
       "      <td>12</td>\n",
       "      <td>President Biden's $2 trillion infrastructure p...</td>\n",
       "      <td>282</td>\n",
       "      <td>602</td>\n",
       "      <td>12</td>\n",
       "      <td>0.87</td>\n",
       "      <td>COVID Relief Bills</td>\n",
       "      <td>-3.24</td>\n",
       "      <td>41.6</td>\n",
       "    </tr>\n",
       "    <tr>\n",
       "      <th>1026</th>\n",
       "      <td>January 12, 2021</td>\n",
       "      <td>Government</td>\n",
       "      <td>['Barbara Sprunt']</td>\n",
       "      <td>READ: Text Of House Resolution Urging Pence To...</td>\n",
       "      <td>An American flag flies at half staff at the U....</td>\n",
       "      <td>[An American flag flies at half staff at the U...</td>\n",
       "      <td>17</td>\n",
       "      <td>An American flag flies at half staff at the U....</td>\n",
       "      <td>619</td>\n",
       "      <td>1624</td>\n",
       "      <td>5</td>\n",
       "      <td>0.87</td>\n",
       "      <td>Political Decision Making</td>\n",
       "      <td>8.10</td>\n",
       "      <td>31.4</td>\n",
       "    </tr>\n",
       "  </tbody>\n",
       "</table>\n",
       "</div>"
      ],
      "text/plain": [
       "                  date    category                            authors  \\\n",
       "405      April 1, 2021    Politics  ['Benjamin Swasey', 'claire oby']   \n",
       "1026  January 12, 2021  Government                 ['Barbara Sprunt']   \n",
       "\n",
       "                                                  title  \\\n",
       "405   By The Numbers: Biden's $2 Trillion Infrastruc...   \n",
       "1026  READ: Text Of House Resolution Urging Pence To...   \n",
       "\n",
       "                                           article_text  \\\n",
       "405   President Biden's $2 trillion infrastructure p...   \n",
       "1026  An American flag flies at half staff at the U....   \n",
       "\n",
       "                                          sentence_toks  num_sentences  \\\n",
       "405   [President Biden's $2 trillion infrastructure ...             12   \n",
       "1026  [An American flag flies at half staff at the U...             17   \n",
       "\n",
       "                                       article_text_set  unique_words  \\\n",
       "405   President Biden's $2 trillion infrastructure p...           282   \n",
       "1026  An American flag flies at half staff at the U....           619   \n",
       "\n",
       "      word_count  topic_num  topic_probability                topic_names  \\\n",
       "405          602         12               0.87         COVID Relief Bills   \n",
       "1026        1624          5               0.87  Political Decision Making   \n",
       "\n",
       "      flesch_reading  ari_grade_level  \n",
       "405            -3.24             41.6  \n",
       "1026            8.10             31.4  "
      ]
     },
     "execution_count": 686,
     "metadata": {},
     "output_type": "execute_result"
    }
   ],
   "source": [
    "df[df['flesch_reading'] < 10]"
   ]
  },
  {
   "cell_type": "code",
   "execution_count": 687,
   "id": "enabling-handling",
   "metadata": {},
   "outputs": [],
   "source": [
    "df.drop([405,1026],inplace=True)"
   ]
  },
  {
   "cell_type": "code",
   "execution_count": 688,
   "id": "private-insertion",
   "metadata": {},
   "outputs": [
    {
     "data": {
      "text/plain": [
       "count    1342.000000\n",
       "mean       52.730276\n",
       "std         9.374105\n",
       "min        26.000000\n",
       "25%        46.400000\n",
       "50%        53.140000\n",
       "75%        58.520000\n",
       "max        85.180000\n",
       "Name: flesch_reading, dtype: float64"
      ]
     },
     "execution_count": 688,
     "metadata": {},
     "output_type": "execute_result"
    }
   ],
   "source": [
    "df['flesch_reading'].describe()"
   ]
  },
  {
   "cell_type": "code",
   "execution_count": 689,
   "id": "opponent-request",
   "metadata": {},
   "outputs": [
    {
     "data": {
      "text/plain": [
       "topic_names\n",
       "Immigration & Foreign Policy                      47.235444\n",
       "Media & Misinformation                            47.980182\n",
       "Texas Power Outtage & Census Case                 48.465962\n",
       "Zero                                              50.488333\n",
       "COVID Relief Bills                                51.177311\n",
       "Political Decision Making                         51.271824\n",
       "Paycheck Protection Program                       51.372727\n",
       "COVID Vaccines                                    52.318639\n",
       "Investigations & Trial Coverage                   52.382427\n",
       "Racism & Hate Crimes                              52.846154\n",
       "Global News & International Relations             55.195493\n",
       "Seventeen                                         55.277500\n",
       "Earth/Natural Resources                           55.900930\n",
       "Science & Medicine                                56.094375\n",
       "Drugs/Opiods                                      56.428378\n",
       "Cultural Phenomena                                56.556712\n",
       "Music & Culture                                   57.670833\n",
       "Learning & Education During The COVID Pandemic    58.030725\n",
       "Name: flesch_reading, dtype: float64"
      ]
     },
     "execution_count": 689,
     "metadata": {},
     "output_type": "execute_result"
    }
   ],
   "source": [
    "df.groupby(['topic_names'])['flesch_reading'].mean().sort_values()"
   ]
  },
  {
   "cell_type": "code",
   "execution_count": 690,
   "id": "objective-constitution",
   "metadata": {},
   "outputs": [],
   "source": [
    "df.to_csv('../tableau/npr_df.csv',index=False)"
   ]
  },
  {
   "cell_type": "code",
   "execution_count": 691,
   "id": "essential-breast",
   "metadata": {},
   "outputs": [],
   "source": [
    "df = pd.read_csv('../tableau/npr_df.csv')"
   ]
  },
  {
   "cell_type": "code",
   "execution_count": 692,
   "id": "numeric-drama",
   "metadata": {},
   "outputs": [
    {
     "data": {
      "text/plain": [
       "Index(['date', 'category', 'authors', 'title', 'article_text', 'sentence_toks',\n",
       "       'num_sentences', 'article_text_set', 'unique_words', 'word_count',\n",
       "       'topic_num', 'topic_probability', 'topic_names', 'flesch_reading',\n",
       "       'ari_grade_level'],\n",
       "      dtype='object')"
      ]
     },
     "execution_count": 692,
     "metadata": {},
     "output_type": "execute_result"
    }
   ],
   "source": [
    "df.columns"
   ]
  },
  {
   "cell_type": "code",
   "execution_count": 693,
   "id": "deluxe-facing",
   "metadata": {},
   "outputs": [
    {
     "data": {
      "text/html": [
       "<div>\n",
       "<style scoped>\n",
       "    .dataframe tbody tr th:only-of-type {\n",
       "        vertical-align: middle;\n",
       "    }\n",
       "\n",
       "    .dataframe tbody tr th {\n",
       "        vertical-align: top;\n",
       "    }\n",
       "\n",
       "    .dataframe thead th {\n",
       "        text-align: right;\n",
       "    }\n",
       "</style>\n",
       "<table border=\"1\" class=\"dataframe\">\n",
       "  <thead>\n",
       "    <tr style=\"text-align: right;\">\n",
       "      <th></th>\n",
       "      <th>date</th>\n",
       "      <th>category</th>\n",
       "      <th>authors</th>\n",
       "      <th>title</th>\n",
       "      <th>article_text</th>\n",
       "      <th>sentence_toks</th>\n",
       "      <th>num_sentences</th>\n",
       "      <th>article_text_set</th>\n",
       "      <th>unique_words</th>\n",
       "      <th>word_count</th>\n",
       "      <th>topic_num</th>\n",
       "      <th>topic_probability</th>\n",
       "      <th>topic_names</th>\n",
       "      <th>flesch_reading</th>\n",
       "      <th>ari_grade_level</th>\n",
       "    </tr>\n",
       "  </thead>\n",
       "  <tbody>\n",
       "    <tr>\n",
       "      <th>795</th>\n",
       "      <td>February 10, 2021</td>\n",
       "      <td>Politics</td>\n",
       "      <td>['Brian Naylor']</td>\n",
       "      <td>Read Trump's Jan. 6 Speech, A Key Part Of Impe...</td>\n",
       "      <td>Then-President Donald Trump speaks to supporte...</td>\n",
       "      <td>[\"Then-President Donald Trump speaks to suppor...</td>\n",
       "      <td>1041</td>\n",
       "      <td>Then-President Donald Trump speaks to supporte...</td>\n",
       "      <td>1876</td>\n",
       "      <td>13777</td>\n",
       "      <td>5</td>\n",
       "      <td>0.76</td>\n",
       "      <td>Political Decision Making</td>\n",
       "      <td>85.18</td>\n",
       "      <td>5.8</td>\n",
       "    </tr>\n",
       "  </tbody>\n",
       "</table>\n",
       "</div>"
      ],
      "text/plain": [
       "                  date  category           authors  \\\n",
       "795  February 10, 2021  Politics  ['Brian Naylor']   \n",
       "\n",
       "                                                 title  \\\n",
       "795  Read Trump's Jan. 6 Speech, A Key Part Of Impe...   \n",
       "\n",
       "                                          article_text  \\\n",
       "795  Then-President Donald Trump speaks to supporte...   \n",
       "\n",
       "                                         sentence_toks  num_sentences  \\\n",
       "795  [\"Then-President Donald Trump speaks to suppor...           1041   \n",
       "\n",
       "                                      article_text_set  unique_words  \\\n",
       "795  Then-President Donald Trump speaks to supporte...          1876   \n",
       "\n",
       "     word_count  topic_num  topic_probability                topic_names  \\\n",
       "795       13777          5               0.76  Political Decision Making   \n",
       "\n",
       "     flesch_reading  ari_grade_level  \n",
       "795           85.18              5.8  "
      ]
     },
     "execution_count": 693,
     "metadata": {},
     "output_type": "execute_result"
    }
   ],
   "source": [
    "df[df['flesch_reading'] == df['flesch_reading'].max()]"
   ]
  }
 ],
 "metadata": {
  "kernelspec": {
   "display_name": "Python [conda env:metis] *",
   "language": "python",
   "name": "conda-env-metis-py"
  },
  "language_info": {
   "codemirror_mode": {
    "name": "ipython",
    "version": 3
   },
   "file_extension": ".py",
   "mimetype": "text/x-python",
   "name": "python",
   "nbconvert_exporter": "python",
   "pygments_lexer": "ipython3",
   "version": "3.8.8"
  }
 },
 "nbformat": 4,
 "nbformat_minor": 5
}
